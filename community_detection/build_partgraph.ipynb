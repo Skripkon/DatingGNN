{
 "cells": [
  {
   "cell_type": "code",
   "execution_count": 1,
   "metadata": {
    "colab": {
     "base_uri": "https://localhost:8080/"
    },
    "id": "CAS_HZwm6i2n",
    "outputId": "a91a8ace-fdd5-44b7-e3fe-da861b8e4070"
   },
   "outputs": [
    {
     "name": "stdout",
     "output_type": "stream",
     "text": [
      "Requirement already satisfied: torch_geometric in c:\\users\\ptarh\\appdata\\local\\programs\\python\\python310\\lib\\site-packages (2.6.1)\n",
      "Requirement already satisfied: aiohttp in c:\\users\\ptarh\\appdata\\local\\programs\\python\\python310\\lib\\site-packages (from torch_geometric) (3.9.3)\n",
      "Requirement already satisfied: fsspec in c:\\users\\ptarh\\appdata\\local\\programs\\python\\python310\\lib\\site-packages (from torch_geometric) (2024.2.0)\n",
      "Requirement already satisfied: jinja2 in c:\\users\\ptarh\\appdata\\local\\programs\\python\\python310\\lib\\site-packages (from torch_geometric) (3.1.2)\n",
      "Requirement already satisfied: numpy in c:\\users\\ptarh\\appdata\\local\\programs\\python\\python310\\lib\\site-packages (from torch_geometric) (1.23.5)\n",
      "Requirement already satisfied: psutil>=5.8.0 in c:\\users\\ptarh\\appdata\\local\\programs\\python\\python310\\lib\\site-packages (from torch_geometric) (5.9.8)\n",
      "Requirement already satisfied: pyparsing in c:\\users\\ptarh\\appdata\\local\\programs\\python\\python310\\lib\\site-packages (from torch_geometric) (3.1.1)\n",
      "Requirement already satisfied: requests in c:\\users\\ptarh\\appdata\\local\\programs\\python\\python310\\lib\\site-packages (from torch_geometric) (2.32.3)\n",
      "Requirement already satisfied: tqdm in c:\\users\\ptarh\\appdata\\local\\programs\\python\\python310\\lib\\site-packages (from torch_geometric) (4.67.0)\n",
      "Requirement already satisfied: aiosignal>=1.1.2 in c:\\users\\ptarh\\appdata\\local\\programs\\python\\python310\\lib\\site-packages (from aiohttp->torch_geometric) (1.3.1)\n",
      "Requirement already satisfied: attrs>=17.3.0 in c:\\users\\ptarh\\appdata\\local\\programs\\python\\python310\\lib\\site-packages (from aiohttp->torch_geometric) (23.2.0)\n",
      "Requirement already satisfied: frozenlist>=1.1.1 in c:\\users\\ptarh\\appdata\\local\\programs\\python\\python310\\lib\\site-packages (from aiohttp->torch_geometric) (1.4.1)\n",
      "Requirement already satisfied: multidict<7.0,>=4.5 in c:\\users\\ptarh\\appdata\\local\\programs\\python\\python310\\lib\\site-packages (from aiohttp->torch_geometric) (6.0.5)\n",
      "Requirement already satisfied: yarl<2.0,>=1.0 in c:\\users\\ptarh\\appdata\\local\\programs\\python\\python310\\lib\\site-packages (from aiohttp->torch_geometric) (1.9.4)\n",
      "Requirement already satisfied: async-timeout<5.0,>=4.0 in c:\\users\\ptarh\\appdata\\local\\programs\\python\\python310\\lib\\site-packages (from aiohttp->torch_geometric) (4.0.3)\n",
      "Requirement already satisfied: MarkupSafe>=2.0 in c:\\users\\ptarh\\appdata\\local\\programs\\python\\python310\\lib\\site-packages (from jinja2->torch_geometric) (2.1.3)\n",
      "Requirement already satisfied: charset-normalizer<4,>=2 in c:\\users\\ptarh\\appdata\\local\\programs\\python\\python310\\lib\\site-packages (from requests->torch_geometric) (3.3.2)\n",
      "Requirement already satisfied: idna<4,>=2.5 in c:\\users\\ptarh\\appdata\\local\\programs\\python\\python310\\lib\\site-packages (from requests->torch_geometric) (2.10)\n",
      "Requirement already satisfied: urllib3<3,>=1.21.1 in c:\\users\\ptarh\\appdata\\local\\programs\\python\\python310\\lib\\site-packages (from requests->torch_geometric) (1.26.20)\n",
      "Requirement already satisfied: certifi>=2017.4.17 in c:\\users\\ptarh\\appdata\\local\\programs\\python\\python310\\lib\\site-packages (from requests->torch_geometric) (2024.2.2)\n",
      "Requirement already satisfied: colorama in c:\\users\\ptarh\\appdata\\local\\programs\\python\\python310\\lib\\site-packages (from tqdm->torch_geometric) (0.4.6)\n"
     ]
    }
   ],
   "source": [
    "!pip install torch_geometric"
   ]
  },
  {
   "cell_type": "code",
   "execution_count": 2,
   "metadata": {
    "id": "ttjjjpEW6c3A"
   },
   "outputs": [],
   "source": [
    "import community as community_louvain  # Louvain method\n",
    "from networkx.algorithms.community import label_propagation_communities\n",
    "import networkx as nx\n",
    "import pickle\n",
    "import numpy as np\n",
    "from sklearn.metrics.pairwise import cosine_similarity\n",
    "from sklearn.cluster import KMeans\n",
    "from sklearn.metrics import silhouette_score\n",
    "from torch_geometric.data import Data\n",
    "from torch_geometric.nn import GCNConv, SAGEConv\n",
    "import torch\n",
    "import matplotlib.pyplot as plt\n"
   ]
  },
  {
   "cell_type": "code",
   "execution_count": 4,
   "metadata": {
    "colab": {
     "base_uri": "https://localhost:8080/",
     "height": 384
    },
    "id": "cgyWud5S7Gwy",
    "outputId": "675a809c-9e2b-47d2-dde5-b88336c0c516"
   },
   "outputs": [],
   "source": [
    "# Load the embeddings for male and female essays\n",
    "with open(\"../embedders/embeddings/embeddings_male.obj\", \"rb\") as f:\n",
    "    embeddings_male = pickle.load(f)\n",
    "\n",
    "with open(\"../embedders/embeddings/embeddings_female.obj\", \"rb\") as f:\n",
    "    embeddings_female = pickle.load(f)"
   ]
  },
  {
   "cell_type": "code",
   "execution_count": 5,
   "metadata": {
    "id": "H9RqBbsz7PK_"
   },
   "outputs": [],
   "source": [
    "# Function to calculate cosine similarity for two embeddings, returns 0 if either is None\n",
    "def safe_cosine_similarity(embedding1, embedding2):\n",
    "    if np.isnan(embedding1[0][0]) or np.isnan(embedding2[0][0]):\n",
    "        return -0.01\n",
    "    return cosine_similarity(embedding1, embedding2)[0][0]\n"
   ]
  },
  {
   "cell_type": "code",
   "execution_count": 8,
   "metadata": {
    "id": "DQCwL0Io7X8o"
   },
   "outputs": [],
   "source": [
    "from tqdm import tqdm\n",
    "def build_graph(female_indices, male_indices):\n",
    "    G = nx.Graph()\n",
    "\n",
    "    # Add female nodes to the graph\n",
    "    for female_idx in female_indices:\n",
    "        G.add_node(female_idx, bipartite=0, type='female')\n",
    "\n",
    "    # Add male nodes to the graph\n",
    "    for male_idx in male_indices:\n",
    "        G.add_node(male_idx, bipartite=1, type='male')\n",
    "\n",
    "    # Add edges based on essay similarities\n",
    "    for female_idx in tqdm(female_indices):\n",
    "        for male_idx in male_indices:\n",
    "            total_similarity = 0\n",
    "            valid_essays = 0\n",
    "            for j in range(10):  # Iterate over all essays (0 to 9)\n",
    "                essay = f\"essay{j}\"\n",
    "                female_embedding = embeddings_female[essay][female_idx].reshape(1, -1)\n",
    "                male_embedding = embeddings_male[essay][male_idx].reshape(1, -1)\n",
    "                similarity = safe_cosine_similarity(female_embedding, male_embedding)\n",
    "                if similarity > 0:\n",
    "                    total_similarity += similarity\n",
    "                    valid_essays += 1\n",
    "\n",
    "            edge_weight = total_similarity / valid_essays if valid_essays > 0 else 0\n",
    "\n",
    "            # Add edge with weight\n",
    "            if edge_weight > 0:\n",
    "                G.add_edge(female_idx, male_idx, weight=edge_weight)\n",
    "\n",
    "    return G"
   ]
  },
  {
   "cell_type": "code",
   "execution_count": 11,
   "metadata": {
    "colab": {
     "base_uri": "https://localhost:8080/",
     "height": 332
    },
    "id": "M9g21NAs7eEy",
    "outputId": "172537d8-87fc-4433-8ae6-74c61bdff94e"
   },
   "outputs": [
    {
     "name": "stderr",
     "output_type": "stream",
     "text": [
      "100%|████████████████████████████████████████████████████████████████████████████████| 150/150 [00:58<00:00,  2.56it/s]\n",
      "100%|████████████████████████████████████████████████████████████████████████████| 150/150 [00:00<00:00, 147030.99it/s]\n"
     ]
    }
   ],
   "source": [
    "N = 150\n",
    "female_indices = list(range(N))\n",
    "male_indices = list(range(N))\n",
    "\n",
    "# Build the graph\n",
    "G = build_graph(female_indices, male_indices)\n",
    "\n",
    "# Convert NetworkX graph to PyTorch Geometric Data\n",
    "def nx_to_pyg_data(G):\n",
    "    # Get edge list and weights\n",
    "    edge_index = torch.tensor(list(G.edges), dtype=torch.long).t().contiguous()\n",
    "    edge_weight = torch.tensor([G[u][v]['weight'] for u, v in G.edges], dtype=torch.float)\n",
    "    # Create feature matrix (one-hot encoding for node types)\n",
    "    node_features = []\n",
    "    for node, data in tqdm(G.nodes(data=True)):\n",
    "        if data['type'] == 'female':\n",
    "            node_features.append([1, 0])\n",
    "        else:\n",
    "            node_features.append([0, 1])\n",
    "    x = torch.tensor(node_features, dtype=torch.float)\n",
    "\n",
    "    return Data(x=x, edge_index=edge_index, edge_attr=edge_weight)\n",
    "\n",
    "# Convert graph to PyTorch Geometric format\n",
    "data = nx_to_pyg_data(G)"
   ]
  },
  {
   "cell_type": "code",
   "execution_count": 14,
   "metadata": {
    "colab": {
     "base_uri": "https://localhost:8080/",
     "height": 211
    },
    "id": "1WvX4lFj7x0y",
    "outputId": "91bb72bd-82f8-4a78-aae5-596ad1dc08f0"
   },
   "outputs": [
    {
     "ename": "AttributeError",
     "evalue": "module 'community' has no attribute 'best_partition'",
     "output_type": "error",
     "traceback": [
      "\u001b[1;31m---------------------------------------------------------------------------\u001b[0m",
      "\u001b[1;31mAttributeError\u001b[0m                            Traceback (most recent call last)",
      "Cell \u001b[1;32mIn[14], line 15\u001b[0m\n\u001b[0;32m     12\u001b[0m silhouette_graphsage \u001b[38;5;241m=\u001b[39m silhouette_score(graphsage_embeddings, graphsage_labels)\n\u001b[0;32m     14\u001b[0m \u001b[38;5;66;03m# --- Louvain Method ---\u001b[39;00m\n\u001b[1;32m---> 15\u001b[0m partition \u001b[38;5;241m=\u001b[39m \u001b[43mcommunity_louvain\u001b[49m\u001b[38;5;241;43m.\u001b[39;49m\u001b[43mbest_partition\u001b[49m(G, weight\u001b[38;5;241m=\u001b[39m\u001b[38;5;124m'\u001b[39m\u001b[38;5;124mweight\u001b[39m\u001b[38;5;124m'\u001b[39m)\n\u001b[0;32m     16\u001b[0m louvain_communities \u001b[38;5;241m=\u001b[39m {node: comm \u001b[38;5;28;01mfor\u001b[39;00m node, comm \u001b[38;5;129;01min\u001b[39;00m partition\u001b[38;5;241m.\u001b[39mitems()}\n\u001b[0;32m     17\u001b[0m modularity_louvain \u001b[38;5;241m=\u001b[39m nx\u001b[38;5;241m.\u001b[39malgorithms\u001b[38;5;241m.\u001b[39mcommunity\u001b[38;5;241m.\u001b[39mmodularity(G, [\u001b[38;5;28mset\u001b[39m(np\u001b[38;5;241m.\u001b[39mwhere(np\u001b[38;5;241m.\u001b[39marray(\u001b[38;5;28mlist\u001b[39m(partition\u001b[38;5;241m.\u001b[39mvalues())) \u001b[38;5;241m==\u001b[39m i)[\u001b[38;5;241m0\u001b[39m]) \u001b[38;5;28;01mfor\u001b[39;00m i \u001b[38;5;129;01min\u001b[39;00m \u001b[38;5;28mset\u001b[39m(partition\u001b[38;5;241m.\u001b[39mvalues())])\n",
      "\u001b[1;31mAttributeError\u001b[0m: module 'community' has no attribute 'best_partition'"
     ]
    }
   ],
   "source": [
    "# Clustering and evaluation\n",
    "kmeans = KMeans(n_clusters=12)\n",
    "\n",
    "# GCN clustering\n",
    "kmeans.fit(gcn_embeddings)\n",
    "gcn_labels = kmeans.labels_\n",
    "silhouette_gcn = silhouette_score(gcn_embeddings, gcn_labels)\n",
    "\n",
    "# GraphSAGE clustering\n",
    "kmeans.fit(graphsage_embeddings)\n",
    "graphsage_labels = kmeans.labels_\n",
    "silhouette_graphsage = silhouette_score(graphsage_embeddings, graphsage_labels)\n",
    "\n",
    "# --- Louvain Method ---\n",
    "partition = community_louvain.best_partition(G, weight='weight')\n",
    "louvain_communities = {node: comm for node, comm in partition.items()}\n",
    "modularity_louvain = nx.algorithms.community.modularity(G, [set(np.where(np.array(list(partition.values())) == i)[0]) for i in set(partition.values())])\n",
    "\n",
    "# --- Label Propagation ---\n",
    "label_prop_communities = list(label_propagation_communities(G))\n",
    "label_prop_dict = {node: idx for idx, community in enumerate(label_prop_communities) for node in community}\n",
    "modularity_label_prop = nx.algorithms.community.modularity(G, label_prop_communities)\n",
    "\n",
    "# --- Modularity for GCN and GraphSAGE ---\n",
    "# Communities for GCN\n",
    "gcn_communities = {i: gcn_labels[i] for i in range(len(gcn_labels))}\n",
    "modularity_gcn = nx.algorithms.community.modularity(G, [set(np.where(np.array(gcn_labels) == i)[0]) for i in set(gcn_labels)])\n",
    "\n",
    "# Communities for GraphSAGE\n",
    "graphsage_communities = {i: graphsage_labels[i] for i in range(len(graphsage_labels))}\n",
    "modularity_graphsage = nx.algorithms.community.modularity(G, [set(np.where(np.array(graphsage_labels) == i)[0]) for i in set(graphsage_labels)])\n",
    "\n",
    "# --- Print Results ---\n",
    "print(f\"Modularity (Louvain): {modularity_louvain:.4f}\")\n",
    "print(f\"Modularity (Label Propagation): {modularity_label_prop:.4f}\")\n",
    "print(f\"Modularity (GCN): {modularity_gcn:.4f}\")\n",
    "print(f\"Modularity (GraphSAGE): {modularity_graphsage:.4f}\")\n",
    "print(f\"Silhouette Score (GCN): {silhouette_gcn:.4f}\")\n",
    "print(f\"Silhouette Score (GraphSAGE): {silhouette_graphsage:.4f}\")\n",
    "\n",
    "# --- Return Results ---\n",
    "results = {\n",
    "    'Louvain': louvain_communities,\n",
    "    'Label Propagation': label_prop_dict,\n",
    "    'GCN': gcn_communities,\n",
    "    'GraphSAGE': graphsage_communities\n",
    "}\n",
    "print(\"\\nGraph Partition Results:\")\n",
    "for method, clusters in results.items():\n",
    "    print(f\"{method}: {clusters}\")"
   ]
  },
  {
   "cell_type": "code",
   "execution_count": null,
   "metadata": {},
   "outputs": [],
   "source": []
  }
 ],
 "metadata": {
  "colab": {
   "provenance": []
  },
  "kernelspec": {
   "display_name": "Python 3 (ipykernel)",
   "language": "python",
   "name": "python3"
  },
  "language_info": {
   "codemirror_mode": {
    "name": "ipython",
    "version": 3
   },
   "file_extension": ".py",
   "mimetype": "text/x-python",
   "name": "python",
   "nbconvert_exporter": "python",
   "pygments_lexer": "ipython3",
   "version": "3.10.11"
  }
 },
 "nbformat": 4,
 "nbformat_minor": 4
}
