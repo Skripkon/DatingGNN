{
    "cells": [
        {
            "cell_type": "code",
            "execution_count": null,
            "metadata": {},
            "outputs": [],
            "source": [
                "%cd .."
            ]
        },
        {
            "cell_type": "code",
            "execution_count": 2,
            "metadata": {},
            "outputs": [],
            "source": [
                "import pandas as pd\n",
                "import networkx as nx\n",
                "from graph_construct.build_graph import build_graph"
            ]
        },
        {
            "cell_type": "code",
            "execution_count": 3,
            "metadata": {},
            "outputs": [
                {
                    "name": "stderr",
                    "output_type": "stream",
                    "text": [
                        "                                                                   \r"
                    ]
                }
            ],
            "source": [
                "data = pd.read_csv(\"data/okcupid_profiles.csv\")\n",
                "# test mode: consider only a subset of users (say, 1000)\n",
                "data = data[0:1000]\n",
                "G: nx.Graph = build_graph(data)"
            ]
        },
        {
            "cell_type": "code",
            "execution_count": 4,
            "metadata": {},
            "outputs": [
                {
                    "name": "stdout",
                    "output_type": "stream",
                    "text": [
                        "edges = 3510\n",
                        "nodes = 1000\n"
                    ]
                }
            ],
            "source": [
                "print(\"edges =\", len(list(G.edges)))\n",
                "print(\"nodes =\", len(list(G.nodes)))"
            ]
        },
        {
            "cell_type": "code",
            "execution_count": 5,
            "metadata": {},
            "outputs": [
                {
                    "name": "stdout",
                    "output_type": "stream",
                    "text": [
                        "Modularity of the partition: 0.5568309510474758\n"
                    ]
                }
            ],
            "source": [
                "import leidenalg\n",
                "import igraph as ig\n",
                "\n",
                "def detect_communities_leiden(G, n_iterations: int = 5, random_seed: int = 42):\n",
                "    \"\"\"Detect communities using the Leiden algorithm.\"\"\"\n",
                "    ig_graph = ig.Graph.TupleList(G.edges(data=True), directed=False)\n",
                "    partition = leidenalg.find_partition(\n",
                "        graph=ig_graph,\n",
                "        partition_type=leidenalg.ModularityVertexPartition,\n",
                "        n_iterations=n_iterations,\n",
                "        seed=random_seed\n",
                "    )\n",
                "\n",
                "    # Return the partition object itself, not just the node-community dictionary\n",
                "    return partition\n",
                "\n",
                "def compute_modularity(partition):\n",
                "    \"\"\"Compute the modularity of the given partition.\"\"\"\n",
                "    return partition.modularity\n",
                "\n",
                "# Assuming `G` is your original graph (nx.Graph)\n",
                "partition = detect_communities_leiden(G)\n",
                "modularity = compute_modularity(partition)\n",
                "\n",
                "print(f\"Modularity of the partition: {modularity}\")"
            ]
        },
        {
            "cell_type": "markdown",
            "metadata": {},
            "source": [
                "# Observation:\n",
                "\n",
                "When constructing a graph using \"weak conditions\" (i.e., connecting users based on low similarity), \n",
                "the resulting modularity is low, around 0.2.\n",
                "\n",
                "In contrast, when using \"strong conditions\" (i.e., connecting users based on high similarity), \n",
                "the modularity is moderate and improves significantly."
            ]
        }
    ],
    "metadata": {
        "kernelspec": {
            "display_name": ".venv",
            "language": "python",
            "name": "python3"
        },
        "language_info": {
            "codemirror_mode": {
                "name": "ipython",
                "version": 3
            },
            "file_extension": ".py",
            "mimetype": "text/x-python",
            "name": "python",
            "nbconvert_exporter": "python",
            "pygments_lexer": "ipython3",
            "version": "3.12.3"
        }
    },
    "nbformat": 4,
    "nbformat_minor": 2
}
