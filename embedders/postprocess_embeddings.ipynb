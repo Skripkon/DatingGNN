{
    "cells": [
        {
            "cell_type": "markdown",
            "metadata": {},
            "source": [
                "### Load the dumped embeddings and mark as NaN the embeddings for the NaN values"
            ]
        },
        {
            "cell_type": "code",
            "execution_count": 1,
            "metadata": {},
            "outputs": [],
            "source": [
                "import pandas as pd\n",
                "import pickle\n",
                "import numpy as np"
            ]
        },
        {
            "cell_type": "code",
            "execution_count": 2,
            "metadata": {},
            "outputs": [],
            "source": [
                "data: pd.DataFrame = pd.read_csv(\"../data/preprocessed_data.csv\")"
            ]
        },
        {
            "cell_type": "code",
            "execution_count": null,
            "metadata": {},
            "outputs": [],
            "source": [
                "embeddings = {}\n",
                "\n",
                "with open(\"../embedders/embeddings/embeddings_MiniLM1.obj\", \"rb\") as f:\n",
                "    embeddings = pickle.load(file=f)\n",
                "\n",
                "embeddings.shape"
            ]
        },
        {
            "cell_type": "code",
            "execution_count": 4,
            "metadata": {},
            "outputs": [],
            "source": [
                "female_mask = data[data[\"sex\"] == \"f\"].index.to_list()\n",
                "male_mask = data[data[\"sex\"] == \"m\"].index.to_list()"
            ]
        },
        {
            "cell_type": "code",
            "execution_count": 5,
            "metadata": {},
            "outputs": [],
            "source": [
                "embeddings_female = embeddings[female_mask, :]\n",
                "embeddings_male = embeddings[male_mask, :]"
            ]
        },
        {
            "cell_type": "code",
            "execution_count": 6,
            "metadata": {},
            "outputs": [],
            "source": [
                "\n",
                "# for essay_idx in range(0, 10):\n",
                "#     column_name = f\"essay{essay_idx}\"\n",
                "#     # mean_embedding = np.nanmean(embeddings[column_name], axis=0)\n",
                "#     # nan_mask = data[column_name].isna().values\n",
                "#     # embeddings[column_name][nan_mask, :] = None\n",
                "\n",
                "#     embeddings_female[column_name] = embeddings[column_name][female_mask, :]\n",
                "#     embeddings_male[column_name] = embeddings[column_name][male_mask, :]"
            ]
        },
        {
            "cell_type": "code",
            "execution_count": 7,
            "metadata": {},
            "outputs": [],
            "source": [
                "with open(\"../embedders/embeddings/embeddings_female.obj\", \"wb\") as f:\n",
                "    pickle.dump(obj=embeddings_female, file=f)\n",
                "\n",
                "with open(\"../embedders/embeddings/embeddings_male.obj\", \"wb\") as f:\n",
                "    pickle.dump(obj=embeddings_male, file=f)"
            ]
        }
    ],
    "metadata": {
        "kernelspec": {
            "display_name": ".venv",
            "language": "python",
            "name": "python3"
        },
        "language_info": {
            "codemirror_mode": {
                "name": "ipython",
                "version": 3
            },
            "file_extension": ".py",
            "mimetype": "text/x-python",
            "name": "python",
            "nbconvert_exporter": "python",
            "pygments_lexer": "ipython3",
            "version": "3.12.3"
        }
    },
    "nbformat": 4,
    "nbformat_minor": 2
}
