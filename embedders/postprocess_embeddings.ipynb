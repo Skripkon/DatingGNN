{
    "cells": [
        {
            "cell_type": "markdown",
            "metadata": {},
            "source": [
                "### Load the dumped embeddings and mark as NaN the embeddings for the NaN values"
            ]
        },
        {
            "cell_type": "code",
            "execution_count": 1,
            "metadata": {},
            "outputs": [
                {
                    "name": "stdout",
                    "output_type": "stream",
                    "text": [
                        "c:\\Users\\nick\\Desktop\\HSE\\DatingGNN\n"
                    ]
                }
            ],
            "source": [
                "import pandas as pd\n",
                "import pickle\n",
                "import torch\n",
                "\n",
                "\n",
                "%cd ..\n",
                "import importlib\n",
                "parse_dataset = importlib.import_module(\"utils.parse_dataset\").parse_dataset"
            ]
        },
        {
            "cell_type": "code",
            "execution_count": 2,
            "metadata": {},
            "outputs": [],
            "source": [
                "data: pd.DataFrame = parse_dataset()"
            ]
        },
        {
            "cell_type": "code",
            "execution_count": 3,
            "metadata": {},
            "outputs": [],
            "source": [
                "embeddings = {}\n",
                "\n",
                "with open(\"embedders/embeddings/embeddings_MiniLM1.obj\", \"rb\") as f:\n",
                "    embeddings = pickle.load(file=f)"
            ]
        },
        {
            "cell_type": "code",
            "execution_count": 4,
            "metadata": {},
            "outputs": [],
            "source": [
                "for essay_idx in range(0, 10):\n",
                "    column_name = f\"essay{essay_idx}\"\n",
                "\n",
                "    nan_mask = data[column_name].isna().values\n",
                "    embeddings[column_name][nan_mask, :] = None"
            ]
        },
        {
            "cell_type": "code",
            "execution_count": 6,
            "metadata": {},
            "outputs": [],
            "source": [
                "with open(\"embedders/embeddings/processed_embeddings_MiniLM1.obj\", \"wb\") as f:\n",
                "    pickle.dump(obj=embeddings, file=f, protocol=-1)"
            ]
        }
    ],
    "metadata": {
        "kernelspec": {
            "display_name": ".venv",
            "language": "python",
            "name": "python3"
        },
        "language_info": {
            "codemirror_mode": {
                "name": "ipython",
                "version": 3
            },
            "file_extension": ".py",
            "mimetype": "text/x-python",
            "name": "python",
            "nbconvert_exporter": "python",
            "pygments_lexer": "ipython3",
            "version": "3.12.3"
        }
    },
    "nbformat": 4,
    "nbformat_minor": 2
}
