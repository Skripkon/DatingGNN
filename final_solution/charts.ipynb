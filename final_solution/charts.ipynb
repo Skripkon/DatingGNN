{
    "cells": [
        {
            "cell_type": "code",
            "execution_count": null,
            "metadata": {},
            "outputs": [],
            "source": [
                "import matplotlib.pyplot as plt\n",
                "import seaborn as sns\n",
                "import networkx as nx\n",
                "import pandas as pd\n",
                "\n",
                "\n",
                "# Load the graph from the edge list file\n",
                "G = nx.read_weighted_edgelist('male_graph.edgelist')\n",
                "print(f\"Nodes: {len(G.nodes())}\")\n",
                "pos = nx.spring_layout(G, iterations=50, threshold=0.0001)\n",
                "\n",
                "# Plot the graph with node colors based on their clusters\n",
                "plt.figure(figsize=(5, 5))\n",
                "nx.draw(G, pos, node_size=50)\n",
                "\n",
                "# Add title and show the plot\n",
                "plt.title(\"Graph Partitioned into Communities (Clusters)\")\n",
                "plt.show();"
            ]
        },
        {
            "cell_type": "code",
            "execution_count": null,
            "metadata": {},
            "outputs": [],
            "source": [
                "clustering_louvain = pd.read_csv('male_clusters_Leiden.csv')\n",
                "# Create a dictionary to store node to cluster mapping\n",
                "node_to_cluster = dict(zip(clustering_louvain['vertex_id'], clustering_louvain['cluster_id']))\n",
                "\n",
                "# Create a list of colors based on clusters (different color for each cluster)\n",
                "cluster_colors = [node_to_cluster[int(node)] for node in G.nodes()]\n",
                "\n",
                "# Create a layout for the graph with more iterations for better positioning\n",
                "pos = nx.spring_layout(G, iterations=30)  # Increase iterations to improve the layout\n",
                "\n",
                "# Plot the graph with node colors based on their clusters\n",
                "plt.figure(figsize=(5, 5))\n",
                "\n",
                "nx.draw(G, pos, node_size=50, node_color=cluster_colors)\n",
                "\n",
                "# Add title and show the plot\n",
                "plt.title(\"Graph Partitioned into Communities (Clusters)\")\n",
                "plt.show();"
            ]
        },
        {
            "cell_type": "code",
            "execution_count": null,
            "metadata": {},
            "outputs": [],
            "source": [
                "# Load cluster data\n",
                "clustering_louvain = pd.read_csv('male_clusters_Louvain.csv')\n",
                "\n",
                "# Create a dictionary to store node-to-cluster mapping\n",
                "node_to_cluster = dict(zip(clustering_louvain['vertex_id'], clustering_louvain['cluster_id']))\n",
                "\n",
                "# Get unique clusters and create a colormap\n",
                "n_unique_clusters = len(sorted(set(node_to_cluster.values())))\n",
                "colormap = sns.color_palette(palette=\"deep\", n_colors=n_unique_clusters)\n",
                "\n",
                "# Create a list of colors based on clusters\n",
                "cluster_colors = [colormap[node_to_cluster[int(node)]] for node in G.nodes()]\n",
                "\n",
                "# Create a layout for the graph with more iterations for better positioning\n",
                "pos = nx.spring_layout(G, iterations=30, threshold=0.0001)\n",
                "\n",
                "# Plot the graph with node colors based on their clusters\n",
                "plt.figure(figsize=(10, 10))\n",
                "nx.draw(\n",
                "    G,\n",
                "    pos,\n",
                "    node_size=50,\n",
                "    node_color=cluster_colors,\n",
                "    edge_color='black'\n",
                ")\n",
                "\n",
                "plt.show()"
            ]
        },
        {
            "cell_type": "code",
            "execution_count": null,
            "metadata": {},
            "outputs": [],
            "source": []
        }
    ],
    "metadata": {
        "kernelspec": {
            "display_name": ".venv",
            "language": "python",
            "name": "python3"
        },
        "language_info": {
            "codemirror_mode": {
                "name": "ipython",
                "version": 3
            },
            "file_extension": ".py",
            "mimetype": "text/x-python",
            "name": "python",
            "nbconvert_exporter": "python",
            "pygments_lexer": "ipython3",
            "version": "3.12.3"
        }
    },
    "nbformat": 4,
    "nbformat_minor": 2
}
