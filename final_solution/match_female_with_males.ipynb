{
    "cells": [
        {
            "cell_type": "code",
            "execution_count": 1,
            "metadata": {},
            "outputs": [],
            "source": [
                "import numpy as np\n",
                "import networkx as nx\n",
                "import pandas as pd\n",
                "from sklearn.manifold import MDS\n",
                "from sklearn.metrics.pairwise import cosine_similarity"
            ]
        },
        {
            "cell_type": "code",
            "execution_count": 2,
            "metadata": {},
            "outputs": [
                {
                    "data": {
                        "text/plain": [
                            "NodeView(('1', '2', '3', '0'))"
                        ]
                    },
                    "execution_count": 2,
                    "metadata": {},
                    "output_type": "execute_result"
                }
            ],
            "source": [
                "G = nx.read_weighted_edgelist('male_graph.edgelist')\n",
                "G.nodes"
            ]
        },
        {
            "cell_type": "code",
            "execution_count": 3,
            "metadata": {},
            "outputs": [],
            "source": [
                "clusters = pd.read_csv(\"male_clusters.csv\")"
            ]
        },
        {
            "cell_type": "code",
            "execution_count": 4,
            "metadata": {},
            "outputs": [
                {
                    "data": {
                        "text/html": [
                            "<div>\n",
                            "<style scoped>\n",
                            "    .dataframe tbody tr th:only-of-type {\n",
                            "        vertical-align: middle;\n",
                            "    }\n",
                            "\n",
                            "    .dataframe tbody tr th {\n",
                            "        vertical-align: top;\n",
                            "    }\n",
                            "\n",
                            "    .dataframe thead th {\n",
                            "        text-align: right;\n",
                            "    }\n",
                            "</style>\n",
                            "<table border=\"1\" class=\"dataframe\">\n",
                            "  <thead>\n",
                            "    <tr style=\"text-align: right;\">\n",
                            "      <th></th>\n",
                            "      <th>vertex_id</th>\n",
                            "      <th>cluster_id</th>\n",
                            "    </tr>\n",
                            "  </thead>\n",
                            "  <tbody>\n",
                            "    <tr>\n",
                            "      <th>0</th>\n",
                            "      <td>0</td>\n",
                            "      <td>1</td>\n",
                            "    </tr>\n",
                            "    <tr>\n",
                            "      <th>1</th>\n",
                            "      <td>1</td>\n",
                            "      <td>1</td>\n",
                            "    </tr>\n",
                            "    <tr>\n",
                            "      <th>2</th>\n",
                            "      <td>2</td>\n",
                            "      <td>2</td>\n",
                            "    </tr>\n",
                            "    <tr>\n",
                            "      <th>3</th>\n",
                            "      <td>3</td>\n",
                            "      <td>2</td>\n",
                            "    </tr>\n",
                            "  </tbody>\n",
                            "</table>\n",
                            "</div>"
                        ],
                        "text/plain": [
                            "   vertex_id  cluster_id\n",
                            "0          0           1\n",
                            "1          1           1\n",
                            "2          2           2\n",
                            "3          3           2"
                        ]
                    },
                    "execution_count": 4,
                    "metadata": {},
                    "output_type": "execute_result"
                }
            ],
            "source": [
                "clusters"
            ]
        },
        {
            "cell_type": "code",
            "execution_count": 5,
            "metadata": {},
            "outputs": [],
            "source": [
                "def compute_cluster_centroid(cluster: int):\n",
                "    # Get the list of vertices in the given cluster\n",
                "    vertices = clusters[clusters[\"cluster_id\"] == cluster][\"vertex_id\"].astype(str).values\n",
                "    distance_matrix = np.ndarray(shape=(len(vertices), len(vertices)))\n",
                "\n",
                "    # Compute the distance matrix\n",
                "    for i in range(len(vertices)):\n",
                "        for j in range(len(vertices)):\n",
                "            if i == j: \n",
                "                continue\n",
                "            u = vertices[i]\n",
                "            v = vertices[j]\n",
                "            distance_matrix[i][j] = G[u][v][\"weight\"]\n",
                "            distance_matrix[j][i] = G[u][v][\"weight\"]\n",
                "\n",
                "    # Use MDS to get the positions of the vertices in a lower-dimensional space\n",
                "    mds = MDS(dissimilarity=\"precomputed\", n_components=distance_matrix.shape[0])\n",
                "    positions = mds.fit_transform(distance_matrix)\n",
                "\n",
                "    # Compute the centroid as the mean position of all vertices\n",
                "    centroid = np.mean(positions, axis=0)\n",
                "\n",
                "    # Compute the Euclidean distance from each vertex to the centroid\n",
                "    distances = np.linalg.norm(positions - centroid, axis=1)\n",
                "\n",
                "    # Find the index of the vertex closest to the centroid and return it\n",
                "    centroid_index = np.argmin(distances)\n",
                "    return vertices[centroid_index]"
            ]
        },
        {
            "cell_type": "code",
            "execution_count": 6,
            "metadata": {},
            "outputs": [
                {
                    "data": {
                        "text/plain": [
                            "[1, 2]"
                        ]
                    },
                    "execution_count": 6,
                    "metadata": {},
                    "output_type": "execute_result"
                }
            ],
            "source": [
                "clusters_list = clusters[\"cluster_id\"].unique().tolist()\n",
                "clusters_list"
            ]
        },
        {
            "cell_type": "code",
            "execution_count": 7,
            "metadata": {},
            "outputs": [
                {
                    "data": {
                        "text/plain": [
                            "{1: '0', 2: '2'}"
                        ]
                    },
                    "execution_count": 7,
                    "metadata": {},
                    "output_type": "execute_result"
                }
            ],
            "source": [
                "cluster_to_centroid: dict = {cluster: compute_cluster_centroid(cluster) for cluster in clusters_list}\n",
                "centroid_to_cluster: dict = {centroid: cluster for cluster, centroid in cluster_to_centroid.items()}\n",
                "cluster_to_centroid"
            ]
        },
        {
            "cell_type": "code",
            "execution_count": 8,
            "metadata": {},
            "outputs": [
                {
                    "name": "stderr",
                    "output_type": "stream",
                    "text": [
                        "C:\\Users\\nick\\AppData\\Local\\Temp\\ipykernel_17680\\1827274167.py:4: DeprecationWarning: numpy.core.numeric is deprecated and has been renamed to numpy._core.numeric. The numpy._core namespace contains private NumPy internals and its use is discouraged, as NumPy internals can change without warning in any release. In practice, most real-world usage of numpy.core is to access functionality in the public NumPy API. If that is the case, use the public NumPy API. If not, you are using NumPy internals. If you would still like to access an internal attribute, use numpy._core.numeric._frombuffer.\n",
                        "  encoded_features = pickle.load(f)\n"
                    ]
                }
            ],
            "source": [
                "import pickle\n",
                "\n",
                "with open(\"../data/features\", \"rb\") as f:\n",
                "    encoded_features = pickle.load(f)\n",
                "\n",
                "data = pd.read_csv(\"../data/preprocessed_data.csv\")"
            ]
        },
        {
            "cell_type": "code",
            "execution_count": 9,
            "metadata": {},
            "outputs": [],
            "source": [
                "centroids_vec = [encoded_features[int(c)] for c in cluster_to_centroid.values()]"
            ]
        },
        {
            "cell_type": "code",
            "execution_count": 40,
            "metadata": {},
            "outputs": [],
            "source": [
                "def match_female_with_males(female_id: int):\n",
                "    female_vec = encoded_features[female_id].reshape(1, -1)\n",
                "    distances = [cosine_similarity(female_vec, centroids_vec[i].reshape(1, -1))[0][0] for i in range(len(centroids_vec))]\n",
                "    closest_cluster = np.argmin(distances) + 1\n",
                "    return clusters[clusters[\"cluster_id\"] == closest_cluster][\"vertex_id\"].astype(str).values"
            ]
        }
    ],
    "metadata": {
        "kernelspec": {
            "display_name": ".venv",
            "language": "python",
            "name": "python3"
        },
        "language_info": {
            "codemirror_mode": {
                "name": "ipython",
                "version": 3
            },
            "file_extension": ".py",
            "mimetype": "text/x-python",
            "name": "python",
            "nbconvert_exporter": "python",
            "pygments_lexer": "ipython3",
            "version": "3.12.3"
        }
    },
    "nbformat": 4,
    "nbformat_minor": 2
}
