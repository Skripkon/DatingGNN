{
    "cells": [
        {
            "cell_type": "code",
            "execution_count": 1,
            "metadata": {},
            "outputs": [],
            "source": [
                "import numpy as np\n",
                "import networkx as nx\n",
                "import pickle\n",
                "import pandas as pd\n",
                "from sklearn.manifold import MDS\n",
                "from sklearn.metrics.pairwise import cosine_similarity"
            ]
        },
        {
            "cell_type": "code",
            "execution_count": 2,
            "metadata": {},
            "outputs": [],
            "source": [
                "# Read graph\n",
                "G = nx.read_weighted_edgelist('male_graph.edgelist')"
            ]
        },
        {
            "cell_type": "code",
            "execution_count": 3,
            "metadata": {},
            "outputs": [],
            "source": [
                "# Read clusters\n",
                "clusters = pd.read_csv(\"male_clusters_Louvain.csv\")"
            ]
        },
        {
            "cell_type": "code",
            "execution_count": 4,
            "metadata": {},
            "outputs": [],
            "source": [
                "with open(\"cluster_to_centroid_Louvain\", \"rb\") as f:\n",
                "    cluster_to_centroid = pickle.load(f)\n",
                "\n",
                "centroid_to_cluster: dict = {centroid: cluster for cluster, centroid in cluster_to_centroid.items()}"
            ]
        },
        {
            "cell_type": "code",
            "execution_count": 5,
            "metadata": {},
            "outputs": [],
            "source": [
                "import pickle\n",
                "\n",
                "with open(\"../data/features\", \"rb\") as f:\n",
                "    encoded_features = pickle.load(f)\n",
                "\n",
                "data = pd.read_csv(\"../data/preprocessed_data.csv\")"
            ]
        },
        {
            "cell_type": "code",
            "execution_count": 6,
            "metadata": {},
            "outputs": [],
            "source": [
                "centroids_vec = [encoded_features[int(c)] for c in cluster_to_centroid.values()]"
            ]
        },
        {
            "cell_type": "code",
            "execution_count": 7,
            "metadata": {},
            "outputs": [],
            "source": [
                "def match_female_with_males(female_id: int):\n",
                "    female_vec = encoded_features[female_id].reshape(1, -1)\n",
                "    distances = [cosine_similarity(female_vec, centroids_vec[i].reshape(1, -1))[0][0] for i in range(len(centroids_vec))]\n",
                "    closest_cluster = np.argmin(distances) + 1\n",
                "    return clusters[clusters[\"cluster_id\"] == closest_cluster][\"vertex_id\"].astype(str).values"
            ]
        },
        {
            "cell_type": "code",
            "execution_count": 8,
            "metadata": {},
            "outputs": [
                {
                    "data": {
                        "text/plain": [
                            "array(['1', '1291', '2103', '6355', '6896', '3685', '4865', '7331', '18',\n",
                            "       '2242', '19', '22', '28', '49', '5661', '64', '66', '7938', '69',\n",
                            "       '82', '112', '114', '120', '2121', '127', '128', '1138', '137',\n",
                            "       '138', '139', '154', '158', '170', '4662', '189', '194', '209',\n",
                            "       '225', '301', '406', '724', '771', '979', '1007', '1017', '1079',\n",
                            "       '1328', '1505', '1714', '1753', '2158', '2289', '2806', '2812',\n",
                            "       '2820', '2896', '2902', '2908', '3072', '3212', '3265', '3351',\n",
                            "       '3446', '3652', '3703', '3785', '3905', '4130', '4407', '4461',\n",
                            "       '4494', '4523', '4556', '4741', '4744', '4905', '4989', '5276',\n",
                            "       '5326', '5376', '5525', '5563', '5684', '5820', '6124', '6346',\n",
                            "       '6405', '6447', '6508', '6832', '7036', '7168', '7455', '7588',\n",
                            "       '7627', '7749', '241', '278', '279', '280', '308', '317', '319',\n",
                            "       '320', '328', '347', '8309', '348', '359', '373', '378', '382',\n",
                            "       '416', '420', '431', '433', '444', '7420', '454', '464', '467',\n",
                            "       '472', '481', '484', '493', '506', '533', '544', '552', '587',\n",
                            "       '597', '600', '615', '616', '620', '621', '623', '635', '648',\n",
                            "       '650', '652', '660', '670', '682', '693', '711', '729', '732',\n",
                            "       '746', '747', '751', '780', '813', '826', '829', '847', '848',\n",
                            "       '866', '879', '884', '885', '900', '930', '932', '934', '967',\n",
                            "       '989', '1000', '1012', '1016', '1023', '1025', '1042', '1050',\n",
                            "       '1052', '1055', '1060', '1062', '1064', '1067', '1069', '1075',\n",
                            "       '1085', '1091', '1109', '1135', '1183', '1425', '1432', '1742',\n",
                            "       '2318', '3193', '3251', '3427', '3474', '3481', '3739', '4355',\n",
                            "       '4600', '4781', '5272', '5450', '5473', '5491', '5522', '6163',\n",
                            "       '6305', '6838', '6990', '7064', '7380', '7719', '7816', '7877',\n",
                            "       '8152', '1140', '1142', '1144', '1151', '1179', '1195', '1200',\n",
                            "       '1211', '1225', '1263', '1266', '1277', '1282', '1290', '1652',\n",
                            "       '1870', '2722', '3462', '3627', '4266', '4393', '4628', '5857',\n",
                            "       '6093', '6103', '7044', '7099', '7821', '1308', '1326', '1333',\n",
                            "       '1335', '1340', '1342', '1352', '1356', '1358', '1383', '1388',\n",
                            "       '1395', '1399', '1405', '1422', '1444', '1448', '1456', '1458',\n",
                            "       '1470', '1476', '1498', '1531', '1534', '1542', '1557', '1585',\n",
                            "       '1591', '1596', '1601', '1610', '1628', '1647', '1656', '1664',\n",
                            "       '1680', '1694', '1745', '1757', '1760', '1785', '3268', '1821',\n",
                            "       '1823', '1826', '1832', '1838', '1891', '1903', '1913', '1915',\n",
                            "       '1921', '1927', '2076', '3840', '4014', '5258', '1956', '1957',\n",
                            "       '1978', '1997', '2002', '2010', '2024', '2026', '2041', '2042',\n",
                            "       '2053', '2077', '2087', '2091', '2096', '2101', '2102', '2155',\n",
                            "       '2265', '2378', '2439', '2686', '2829', '2918', '2935', '2946',\n",
                            "       '3082', '3229', '3439', '3444', '3535', '3748', '3750', '3762',\n",
                            "       '4060', '4197', '4270', '4326', '4345', '4411', '4528', '4586',\n",
                            "       '4622', '4840', '5008', '5307', '6014', '6135', '6194', '6257',\n",
                            "       '6394', '6575', '6788', '6825', '7191', '7260', '7294', '7358',\n",
                            "       '7772', '7795', '8023', '2106', '2111', '2143', '2166', '2458',\n",
                            "       '2490', '2597', '2696', '2774', '2778', '2813', '2833', '2863',\n",
                            "       '2875', '2920', '2924', '2937', '2947', '2953', '3079', '3138',\n",
                            "       '3197', '3209', '3249', '3334', '3362', '3411', '3416', '3424',\n",
                            "       '3447', '3745', '3848', '3930', '3936', '4032', '4033', '4051',\n",
                            "       '4076', '4163', '4205', '4262', '4380', '4390', '4395', '4427',\n",
                            "       '4488', '4518', '4564', '4594', '4668', '4681', '4710', '4717',\n",
                            "       '4764', '4829', '4858', '4877', '4906', '4938', '5011', '5014',\n",
                            "       '5120', '5138', '5253', '5271', '5403', '5633', '5653', '5675',\n",
                            "       '5689', '5718', '5722', '5747', '5772', '5823', '5913', '5927',\n",
                            "       '5940', '5945', '6061', '6074', '6088', '6335', '6343', '6350',\n",
                            "       '6460', '6567', '6617', '6629', '6651', '6704', '6865', '7045',\n",
                            "       '7047', '7105', '7121', '7157', '7207', '7275', '7366', '7462',\n",
                            "       '7553', '7603', '7617', '7701', '7753', '7770', '7787', '7823',\n",
                            "       '7897', '7910', '7916', '7967', '8005', '8124', '8161', '8194',\n",
                            "       '8207', '8322', '2123', '2129', '2134', '2140', '2281', '2290',\n",
                            "       '2412', '2446', '2455', '2518', '2521', '2624', '2637', '2672',\n",
                            "       '2692', '2836', '2917', '2919', '3021', '3077', '3211', '3269',\n",
                            "       '3339', '3357', '3441', '3442', '3463', '3487', '3513', '3593',\n",
                            "       '3629', '3674', '3676', '3706', '3845', '3850', '3856', '3886',\n",
                            "       '3889', '3895', '3899', '3910', '3917', '3928', '4008', '4056',\n",
                            "       '4084', '4086', '4095', '4140', '4252', '4273', '4305', '4330',\n",
                            "       '4336', '4358', '4451', '4459', '4465', '4471', '4583', '4655',\n",
                            "       '4698', '4721', '4733', '4771', '4885', '4948', '4998', '5022',\n",
                            "       '5113', '5273', '5277', '5289', '5296', '5316', '5404', '5447',\n",
                            "       '5461', '5516', '5586', '5630', '5640', '5651', '5677', '5705',\n",
                            "       '5731', '5738', '5767', '5782', '5861', '6001', '6010', '6120',\n",
                            "       '6134', '6161', '6275', '6341', '6349', '6362', '6487', '6503',\n",
                            "       '6561', '6564', '6632', '6638', '6648', '6693', '6780', '6805',\n",
                            "       '6817', '6827', '6846', '6852', '6854', '6879', '6966', '7071',\n",
                            "       '7122', '7141', '7165', '7281', '7289', '7388', '7403', '7570',\n",
                            "       '7644', '7738', '7766', '7842', '7863', '7903', '8022', '8114',\n",
                            "       '8196', '8264', '2246', '2282', '2319', '2371', '2440', '2492',\n",
                            "       '2514', '2565', '2569', '2601', '2657', '2669', '2690', '2762',\n",
                            "       '2776', '4009', '2879', '2922', '2928', '2951', '3012', '3049',\n",
                            "       '3055', '3058', '3078', '3100', '3259', '3266', '3272', '3336',\n",
                            "       '3380', '3386', '3454', '3467', '3498', '3611', '3666', '3734',\n",
                            "       '3826', '3940', '3953', '3995', '3999', '4041', '4067', '4079',\n",
                            "       '4080', '4141', '4166', '4173', '4227', '4365', '4379', '4397',\n",
                            "       '4510', '4521', '4550', '4768', '4779', '4879', '4883', '4936',\n",
                            "       '5013', '5118', '5129', '5203', '5243', '5261', '5320', '5324',\n",
                            "       '5417', '5431', '5589', '5635', '5683', '5813', '5818', '5821',\n",
                            "       '5844', '5854', '5896', '6069', '6072', '6114', '6252', '6294',\n",
                            "       '6338', '6569', '6582', '6609', '6635', '6642', '6834', '6837',\n",
                            "       '6939', '7038', '7060', '7066', '7109', '7156', '7160', '7245',\n",
                            "       '7277', '7296', '7329', '7393', '7402', '7413', '7414', '7428',\n",
                            "       '7429', '7431', '7667', '7778', '7797', '7886', '7891', '7925',\n",
                            "       '7932', '7950', '8189', '8209', '8243', '8332', '3846', '3935',\n",
                            "       '3945', '4087', '4092', '4216', '4242', '4267', '4388', '4469',\n",
                            "       '4650', '4654', '4900', '5318', '5503', '5505', '5592', '6518',\n",
                            "       '6585', '7584', '7752', '8123', '4695', '4796', '5416', '5711',\n",
                            "       '6848', '7645', '4985', '5177', '5390', '5547', '5642', '6490',\n",
                            "       '5687', '5717', '5838', '6321', '7536', '6458', '6511', '6602',\n",
                            "       '6630', '6967', '7029', '7116', '7170', '7279', '7438', '7602',\n",
                            "       '7824', '8289'], dtype=object)"
                        ]
                    },
                    "execution_count": 8,
                    "metadata": {},
                    "output_type": "execute_result"
                }
            ],
            "source": [
                "TEST_FEMALE = 51601\n",
                "\n",
                "match_female_with_males(TEST_FEMALE)"
            ]
        },
        {
            "cell_type": "code",
            "execution_count": 9,
            "metadata": {},
            "outputs": [
                {
                    "data": {
                        "text/plain": [
                            "age                                                           31\n",
                            "status                                                    single\n",
                            "sex                                                            f\n",
                            "orientation                                             straight\n",
                            "body_type                                              mesomorph\n",
                            "drinks                                                  socially\n",
                            "education                                        College or more\n",
                            "height                                                     157.0\n",
                            "job                                                  unspecified\n",
                            "location                               san francisco, california\n",
                            "religion                                             agnosticism\n",
                            "smokes                                                        no\n",
                            "essay0         real deal: i am sensitive (sorry, tears includ...\n",
                            "essay1         right now...watching 'celebrity rehab' and com...\n",
                            "essay2         eating chocolate and doing pilates (usually no...\n",
                            "essay3         my hair? eyes? height? curves? dk....my caring...\n",
                            "essay4         too many to name ... -a new earth, kite runner...\n",
                            "essay5         1. pilates 2. solo relaxation time (with or wi...\n",
                            "essay6         how i am gonna answer this question! ...existe...\n",
                            "essay7         doing the obvious two things everyone is doing...\n",
                            "essay8         --is that i sometimes watch reality tv (even t...\n",
                            "essay9         --if you have the courage to tell me why you c...\n",
                            "likes_dogs                                                   Yes\n",
                            "likes_cats                                                    No\n",
                            "Name: 51601, dtype: object"
                        ]
                    },
                    "execution_count": 9,
                    "metadata": {},
                    "output_type": "execute_result"
                }
            ],
            "source": [
                "data.iloc[51601]"
            ]
        },
        {
            "cell_type": "code",
            "execution_count": 10,
            "metadata": {},
            "outputs": [
                {
                    "data": {
                        "text/plain": [
                            "age                                                           31\n",
                            "status                                                    single\n",
                            "sex                                                            m\n",
                            "orientation                                             straight\n",
                            "body_type                                              mesomorph\n",
                            "drinks                                                  socially\n",
                            "education                                        College or more\n",
                            "height                                                     188.0\n",
                            "job                                         education / academia\n",
                            "location                                     oakland, california\n",
                            "religion                    judaism but not too serious about it\n",
                            "smokes                                                        no\n",
                            "essay0         i've leaped over medium sized boulders in a si...\n",
                            "essay1         playing basketball, soccer, surfing, and laugh...\n",
                            "essay2         soccer, basketball, boggle, pool (the game wit...\n",
                            "essay3         i'll ask you this question if we ever meet. we...\n",
                            "essay4         books: thousand autumns of jacob de zoet, free...\n",
                            "essay5         fresh air dark chocolate music cleats laughter...\n",
                            "essay6         i wouldn't say i spend a lot of time thinking ...\n",
                            "essay7         a dinner (i can cook a few dishes) with good c...\n",
                            "essay8         when i was living in argentina and learning sp...\n",
                            "essay9         something made you curious about me and you th...\n",
                            "likes_dogs                                                    No\n",
                            "likes_cats                                                    No\n",
                            "Name: 949, dtype: object"
                        ]
                    },
                    "execution_count": 10,
                    "metadata": {},
                    "output_type": "execute_result"
                }
            ],
            "source": [
                "data.iloc[949]"
            ]
        },
        {
            "cell_type": "code",
            "execution_count": 11,
            "metadata": {},
            "outputs": [],
            "source": [
                "encoded_features = [\n",
                "    [1, 2, 1, 0],\n",
                "    [1, 2, 1, 0],\n",
                "    [1, 1, 1, 1],\n",
                "    [1, 2, 3, 4]\n",
                "]"
            ]
        },
        {
            "cell_type": "code",
            "execution_count": 12,
            "metadata": {},
            "outputs": [
                {
                    "data": {
                        "text/plain": [
                            "array([[0.  , 0.  , 0.5 , 0.5 ],\n",
                            "       [0.  , 0.  , 0.5 , 0.5 ],\n",
                            "       [0.5 , 0.5 , 0.  , 0.75],\n",
                            "       [0.5 , 0.5 , 0.75, 0.  ]])"
                        ]
                    },
                    "execution_count": 12,
                    "metadata": {},
                    "output_type": "execute_result"
                }
            ],
            "source": [
                "from scipy.spatial.distance import cdist\n",
                "cdist(encoded_features, encoded_features, metric='hamming')"
            ]
        },
        {
            "cell_type": "code",
            "execution_count": 13,
            "metadata": {},
            "outputs": [
                {
                    "data": {
                        "text/plain": [
                            "0          socially\n",
                            "1             often\n",
                            "2          socially\n",
                            "3          socially\n",
                            "4          socially\n",
                            "            ...    \n",
                            "51601      socially\n",
                            "51602      socially\n",
                            "51603         often\n",
                            "51604    not at all\n",
                            "51605      socially\n",
                            "Name: drinks, Length: 51606, dtype: object"
                        ]
                    },
                    "execution_count": 13,
                    "metadata": {},
                    "output_type": "execute_result"
                }
            ],
            "source": [
                "data[\"drinks\"]"
            ]
        },
        {
            "cell_type": "code",
            "execution_count": 14,
            "metadata": {},
            "outputs": [
                {
                    "data": {
                        "text/plain": [
                            "0        endomorph\n",
                            "1        mesomorph\n",
                            "2        ectomorph\n",
                            "3        ectomorph\n",
                            "4        mesomorph\n",
                            "           ...    \n",
                            "51601    mesomorph\n",
                            "51602    mesomorph\n",
                            "51603    mesomorph\n",
                            "51604    mesomorph\n",
                            "51605    mesomorph\n",
                            "Name: body_type, Length: 51606, dtype: object"
                        ]
                    },
                    "execution_count": 14,
                    "metadata": {},
                    "output_type": "execute_result"
                }
            ],
            "source": [
                "data[\"body_type\"]"
            ]
        },
        {
            "cell_type": "code",
            "execution_count": 29,
            "metadata": {},
            "outputs": [
                {
                    "data": {
                        "text/plain": [
                            "age                                                           22\n",
                            "status                                                    single\n",
                            "sex                                                            m\n",
                            "orientation                                             straight\n",
                            "body_type                                              endomorph\n",
                            "drinks                                                  socially\n",
                            "education                                        College or more\n",
                            "height                                                     190.0\n",
                            "job                                               transportation\n",
                            "location                         south san francisco, california\n",
                            "religion                   agnosticism and very serious about it\n",
                            "smokes                                                 sometimes\n",
                            "essay0         about me:  i would love to think that i was so...\n",
                            "essay1         currently working as an international agent fo...\n",
                            "essay2         making people laugh. ranting about a good salt...\n",
                            "essay3         the way i look. i am a six foot half asian, ha...\n",
                            "essay4         books: absurdistan, the republic, of mice and ...\n",
                            "essay5                         food. water. cell phone. shelter.\n",
                            "essay6                               duality and humorous things\n",
                            "essay7         trying to find someone to hang out with. i am ...\n",
                            "essay8         i am new to california and looking for someone...\n",
                            "essay9         you want to be swept off your feet! you are ti...\n",
                            "likes_dogs                                                   Yes\n",
                            "likes_cats                                                   Yes\n",
                            "Name: 0, dtype: object"
                        ]
                    },
                    "execution_count": 29,
                    "metadata": {},
                    "output_type": "execute_result"
                }
            ],
            "source": [
                "data.iloc[0]"
            ]
        }
    ],
    "metadata": {
        "kernelspec": {
            "display_name": ".venv",
            "language": "python",
            "name": "python3"
        },
        "language_info": {
            "codemirror_mode": {
                "name": "ipython",
                "version": 3
            },
            "file_extension": ".py",
            "mimetype": "text/x-python",
            "name": "python",
            "nbconvert_exporter": "python",
            "pygments_lexer": "ipython3",
            "version": "3.12.3"
        }
    },
    "nbformat": 4,
    "nbformat_minor": 2
}
