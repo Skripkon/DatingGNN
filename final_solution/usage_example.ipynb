{
    "cells": [
        {
            "cell_type": "markdown",
            "metadata": {},
            "source": [
                "This notebook demonstrates how to generate predictions for a single female using one clustering method.\n",
                "\n",
                "It aggregates the results from different clustering algorithms (now it uses only one clustering).\n",
                "\n",
                "Given training data, a basic ranking method (FCN comparator) and a more complex approach (RLHF) can further be applied."
            ]
        },
        {
            "cell_type": "code",
            "execution_count": 1,
            "metadata": {},
            "outputs": [],
            "source": [
                "import numpy as np\n",
                "import networkx as nx\n",
                "import pickle\n",
                "import pandas as pd\n",
                "from sklearn.manifold import MDS\n",
                "from sklearn.metrics.pairwise import cosine_similarity"
            ]
        },
        {
            "cell_type": "code",
            "execution_count": 2,
            "metadata": {},
            "outputs": [],
            "source": [
                "# Read graph\n",
                "G = nx.read_weighted_edgelist('male_graph.edgelist')"
            ]
        },
        {
            "cell_type": "code",
            "execution_count": 3,
            "metadata": {},
            "outputs": [],
            "source": [
                "# Read clusters\n",
                "clusters = pd.read_csv(\"male_clusters_Node2Vec_KMeans.csv\")"
            ]
        },
        {
            "cell_type": "code",
            "execution_count": 4,
            "metadata": {},
            "outputs": [],
            "source": [
                "with open(\"cluster_to_centroid_Louvain\", \"rb\") as f:\n",
                "    cluster_to_centroid = pickle.load(f)\n",
                "\n",
                "centroid_to_cluster: dict = {centroid: cluster for cluster, centroid in cluster_to_centroid.items()}"
            ]
        },
        {
            "cell_type": "code",
            "execution_count": 5,
            "metadata": {},
            "outputs": [],
            "source": [
                "import pickle\n",
                "\n",
                "with open(\"../data/features\", \"rb\") as f:\n",
                "    encoded_features = pickle.load(f)\n",
                "\n",
                "data = pd.read_csv(\"../data/preprocessed_data.csv\")"
            ]
        },
        {
            "cell_type": "code",
            "execution_count": 6,
            "metadata": {},
            "outputs": [],
            "source": [
                "centroids_vec = [encoded_features[int(c)] for c in cluster_to_centroid.values()]"
            ]
        },
        {
            "cell_type": "code",
            "execution_count": 7,
            "metadata": {},
            "outputs": [],
            "source": [
                "def match_female_with_males(female_id: int):\n",
                "    female_vec = encoded_features[female_id].reshape(1, -1)\n",
                "    distances = [cosine_similarity(female_vec, centroids_vec[i].reshape(1, -1))[0][0] for i in range(len(centroids_vec))]\n",
                "    closest_cluster = np.argmin(distances) + 1\n",
                "    return clusters[clusters[\"cluster_id\"] == closest_cluster][\"vertex_id\"].astype(str).values"
            ]
        },
        {
            "cell_type": "code",
            "execution_count": null,
            "metadata": {},
            "outputs": [],
            "source": [
                "TEST_FEMALE = 51601\n",
                "\n",
                "match_female_with_males(TEST_FEMALE)"
            ]
        },
        {
            "cell_type": "code",
            "execution_count": null,
            "metadata": {},
            "outputs": [],
            "source": [
                "data.iloc[51601]"
            ]
        },
        {
            "cell_type": "code",
            "execution_count": null,
            "metadata": {},
            "outputs": [],
            "source": [
                "data.iloc[949]"
            ]
        }
    ],
    "metadata": {
        "kernelspec": {
            "display_name": ".venv",
            "language": "python",
            "name": "python3"
        },
        "language_info": {
            "codemirror_mode": {
                "name": "ipython",
                "version": 3
            },
            "file_extension": ".py",
            "mimetype": "text/x-python",
            "name": "python",
            "nbconvert_exporter": "python",
            "pygments_lexer": "ipython3",
            "version": "3.12.3"
        }
    },
    "nbformat": 4,
    "nbformat_minor": 2
}
