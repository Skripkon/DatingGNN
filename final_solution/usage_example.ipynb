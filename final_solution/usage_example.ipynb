{
    "cells": [
        {
            "cell_type": "markdown",
            "metadata": {},
            "source": [
                "This notebook demonstrates how to generate predictions for a single female using one clustering method.\n",
                "\n",
                "It aggregates the results from different clustering algorithms and applies both a basic ranking method (FCN comparator) and a more complex approach (RLHF)."
            ]
        },
        {
            "cell_type": "code",
            "execution_count": 1,
            "metadata": {},
            "outputs": [],
            "source": [
                "import numpy as np\n",
                "import networkx as nx\n",
                "import pickle\n",
                "import pandas as pd\n",
                "from sklearn.manifold import MDS\n",
                "from sklearn.metrics.pairwise import cosine_similarity"
            ]
        },
        {
            "cell_type": "code",
            "execution_count": 2,
            "metadata": {},
            "outputs": [],
            "source": [
                "# Read graph\n",
                "G = nx.read_weighted_edgelist('male_graph.edgelist')"
            ]
        },
        {
            "cell_type": "code",
            "execution_count": 3,
            "metadata": {},
            "outputs": [],
            "source": [
                "# Read clusters\n",
                "clusters = pd.read_csv(\"male_clusters_Louvain.csv\")"
            ]
        },
        {
            "cell_type": "code",
            "execution_count": 4,
            "metadata": {},
            "outputs": [],
            "source": [
                "with open(\"cluster_to_centroid_Louvain\", \"rb\") as f:\n",
                "    cluster_to_centroid = pickle.load(f)\n",
                "\n",
                "centroid_to_cluster: dict = {centroid: cluster for cluster, centroid in cluster_to_centroid.items()}"
            ]
        },
        {
            "cell_type": "code",
            "execution_count": 5,
            "metadata": {},
            "outputs": [],
            "source": [
                "import pickle\n",
                "\n",
                "with open(\"../data/features\", \"rb\") as f:\n",
                "    encoded_features = pickle.load(f)\n",
                "\n",
                "data = pd.read_csv(\"../data/preprocessed_data.csv\")"
            ]
        },
        {
            "cell_type": "code",
            "execution_count": 6,
            "metadata": {},
            "outputs": [],
            "source": [
                "centroids_vec = [encoded_features[int(c)] for c in cluster_to_centroid.values()]"
            ]
        },
        {
            "cell_type": "code",
            "execution_count": 7,
            "metadata": {},
            "outputs": [],
            "source": [
                "def match_female_with_males(female_id: int):\n",
                "    female_vec = encoded_features[female_id].reshape(1, -1)\n",
                "    distances = [cosine_similarity(female_vec, centroids_vec[i].reshape(1, -1))[0][0] for i in range(len(centroids_vec))]\n",
                "    closest_cluster = np.argmin(distances) + 1\n",
                "    return clusters[clusters[\"cluster_id\"] == closest_cluster][\"vertex_id\"].astype(str).values"
            ]
        },
        {
            "cell_type": "code",
            "execution_count": 8,
            "metadata": {},
            "outputs": [
                {
                    "data": {
                        "text/plain": [
                            "array(['15736', '13992', '17016', '31731'], dtype=object)"
                        ]
                    },
                    "execution_count": 8,
                    "metadata": {},
                    "output_type": "execute_result"
                }
            ],
            "source": [
                "TEST_FEMALE = 51601\n",
                "\n",
                "match_female_with_males(TEST_FEMALE)"
            ]
        },
        {
            "cell_type": "code",
            "execution_count": 9,
            "metadata": {},
            "outputs": [
                {
                    "data": {
                        "text/plain": [
                            "age                                                           31\n",
                            "status                                                    single\n",
                            "sex                                                            f\n",
                            "orientation                                             straight\n",
                            "body_type                                              mesomorph\n",
                            "drinks                                                  socially\n",
                            "education                                        College or more\n",
                            "height                                                     157.0\n",
                            "job                                                  unspecified\n",
                            "location                               san francisco, california\n",
                            "religion                                             agnosticism\n",
                            "smokes                                                        no\n",
                            "essay0         real deal: i am sensitive (sorry, tears includ...\n",
                            "essay1         right now...watching 'celebrity rehab' and com...\n",
                            "essay2         eating chocolate and doing pilates (usually no...\n",
                            "essay3         my hair? eyes? height? curves? dk....my caring...\n",
                            "essay4         too many to name ... -a new earth, kite runner...\n",
                            "essay5         1. pilates 2. solo relaxation time (with or wi...\n",
                            "essay6         how i am gonna answer this question! ...existe...\n",
                            "essay7         doing the obvious two things everyone is doing...\n",
                            "essay8         --is that i sometimes watch reality tv (even t...\n",
                            "essay9         --if you have the courage to tell me why you c...\n",
                            "likes_dogs                                                   Yes\n",
                            "likes_cats                                                    No\n",
                            "Name: 51601, dtype: object"
                        ]
                    },
                    "execution_count": 9,
                    "metadata": {},
                    "output_type": "execute_result"
                }
            ],
            "source": [
                "data.iloc[51601]"
            ]
        },
        {
            "cell_type": "code",
            "execution_count": 10,
            "metadata": {},
            "outputs": [
                {
                    "data": {
                        "text/plain": [
                            "age                                                           31\n",
                            "status                                                    single\n",
                            "sex                                                            m\n",
                            "orientation                                             straight\n",
                            "body_type                                              mesomorph\n",
                            "drinks                                                  socially\n",
                            "education                                        College or more\n",
                            "height                                                     188.0\n",
                            "job                                         education / academia\n",
                            "location                                     oakland, california\n",
                            "religion                    judaism but not too serious about it\n",
                            "smokes                                                        no\n",
                            "essay0         i've leaped over medium sized boulders in a si...\n",
                            "essay1         playing basketball, soccer, surfing, and laugh...\n",
                            "essay2         soccer, basketball, boggle, pool (the game wit...\n",
                            "essay3         i'll ask you this question if we ever meet. we...\n",
                            "essay4         books: thousand autumns of jacob de zoet, free...\n",
                            "essay5         fresh air dark chocolate music cleats laughter...\n",
                            "essay6         i wouldn't say i spend a lot of time thinking ...\n",
                            "essay7         a dinner (i can cook a few dishes) with good c...\n",
                            "essay8         when i was living in argentina and learning sp...\n",
                            "essay9         something made you curious about me and you th...\n",
                            "likes_dogs                                                    No\n",
                            "likes_cats                                                    No\n",
                            "Name: 949, dtype: object"
                        ]
                    },
                    "execution_count": 10,
                    "metadata": {},
                    "output_type": "execute_result"
                }
            ],
            "source": [
                "data.iloc[949]"
            ]
        }
    ],
    "metadata": {
        "kernelspec": {
            "display_name": ".venv",
            "language": "python",
            "name": "python3"
        },
        "language_info": {
            "codemirror_mode": {
                "name": "ipython",
                "version": 3
            },
            "file_extension": ".py",
            "mimetype": "text/x-python",
            "name": "python",
            "nbconvert_exporter": "python",
            "pygments_lexer": "ipython3",
            "version": "3.12.3"
        }
    },
    "nbformat": 4,
    "nbformat_minor": 2
}
