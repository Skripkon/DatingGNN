{
    "cells": [
        {
            "cell_type": "code",
            "execution_count": 9,
            "metadata": {},
            "outputs": [],
            "source": [
                "import numpy as np\n",
                "import networkx as nx\n",
                "import pickle\n",
                "import pandas as pd\n",
                "from sklearn.manifold import MDS\n",
                "from sklearn.metrics.pairwise import cosine_similarity"
            ]
        },
        {
            "cell_type": "code",
            "execution_count": 10,
            "metadata": {},
            "outputs": [],
            "source": [
                "# Read graph\n",
                "G = nx.read_weighted_edgelist('male_graph.edgelist')"
            ]
        },
        {
            "cell_type": "code",
            "execution_count": 11,
            "metadata": {},
            "outputs": [],
            "source": [
                "# Read clusters\n",
                "clusters = pd.read_csv(\"male_clusters.csv\")"
            ]
        },
        {
            "cell_type": "code",
            "execution_count": 12,
            "metadata": {},
            "outputs": [],
            "source": [
                "with open(\"cluster_to_centroid\", \"rb\") as f:\n",
                "    cluster_to_centroid = pickle.load(f)\n",
                "\n",
                "centroid_to_cluster: dict = {centroid: cluster for cluster, centroid in cluster_to_centroid.items()}"
            ]
        },
        {
            "cell_type": "code",
            "execution_count": 13,
            "metadata": {},
            "outputs": [
                {
                    "name": "stderr",
                    "output_type": "stream",
                    "text": [
                        "C:\\Users\\nick\\AppData\\Local\\Temp\\ipykernel_1904\\1827274167.py:4: DeprecationWarning: numpy.core.numeric is deprecated and has been renamed to numpy._core.numeric. The numpy._core namespace contains private NumPy internals and its use is discouraged, as NumPy internals can change without warning in any release. In practice, most real-world usage of numpy.core is to access functionality in the public NumPy API. If that is the case, use the public NumPy API. If not, you are using NumPy internals. If you would still like to access an internal attribute, use numpy._core.numeric._frombuffer.\n",
                        "  encoded_features = pickle.load(f)\n"
                    ]
                }
            ],
            "source": [
                "import pickle\n",
                "\n",
                "with open(\"../data/features\", \"rb\") as f:\n",
                "    encoded_features = pickle.load(f)\n",
                "\n",
                "data = pd.read_csv(\"../data/preprocessed_data.csv\")"
            ]
        },
        {
            "cell_type": "code",
            "execution_count": 14,
            "metadata": {},
            "outputs": [],
            "source": [
                "centroids_vec = [encoded_features[int(c)] for c in cluster_to_centroid.values()]"
            ]
        },
        {
            "cell_type": "code",
            "execution_count": 15,
            "metadata": {},
            "outputs": [],
            "source": [
                "def match_female_with_males(female_id: int):\n",
                "    female_vec = encoded_features[female_id].reshape(1, -1)\n",
                "    distances = [cosine_similarity(female_vec, centroids_vec[i].reshape(1, -1))[0][0] for i in range(len(centroids_vec))]\n",
                "    closest_cluster = np.argmin(distances) + 1\n",
                "    return clusters[clusters[\"cluster_id\"] == closest_cluster][\"vertex_id\"].astype(str).values"
            ]
        },
        {
            "cell_type": "code",
            "execution_count": 20,
            "metadata": {},
            "outputs": [
                {
                    "data": {
                        "text/plain": [
                            "array(['28', '122', '4', '19', '47', '85', '35', '36', '54', '59', '72',\n",
                            "       '108', '114', '115', '49', '25', '38', '109', '113', '87', '43',\n",
                            "       '124'], dtype=object)"
                        ]
                    },
                    "execution_count": 20,
                    "metadata": {},
                    "output_type": "execute_result"
                }
            ],
            "source": [
                "TEST_FEMALE = 51601\n",
                "\n",
                "match_female_with_males(TEST_FEMALE)"
            ]
        },
        {
            "cell_type": "code",
            "execution_count": 21,
            "metadata": {},
            "outputs": [
                {
                    "data": {
                        "text/plain": [
                            "age                                                           31\n",
                            "status                                                    single\n",
                            "sex                                                            f\n",
                            "orientation                                             straight\n",
                            "body_type                                              mesomorph\n",
                            "drinks                                                  socially\n",
                            "education                                        College or more\n",
                            "height                                                     157.0\n",
                            "job                                                  unspecified\n",
                            "location                               san francisco, california\n",
                            "religion                                             agnosticism\n",
                            "smokes                                                        no\n",
                            "essay0         real deal: i am sensitive (sorry, tears includ...\n",
                            "essay1         right now...watching 'celebrity rehab' and com...\n",
                            "essay2         eating chocolate and doing pilates (usually no...\n",
                            "essay3         my hair? eyes? height? curves? dk....my caring...\n",
                            "essay4         too many to name ... -a new earth, kite runner...\n",
                            "essay5         1. pilates 2. solo relaxation time (with or wi...\n",
                            "essay6         how i am gonna answer this question! ...existe...\n",
                            "essay7         doing the obvious two things everyone is doing...\n",
                            "essay8         --is that i sometimes watch reality tv (even t...\n",
                            "essay9         --if you have the courage to tell me why you c...\n",
                            "likes_dogs                                                   Yes\n",
                            "likes_cats                                                    No\n",
                            "Name: 51601, dtype: object"
                        ]
                    },
                    "execution_count": 21,
                    "metadata": {},
                    "output_type": "execute_result"
                }
            ],
            "source": [
                "data.iloc[51601]"
            ]
        },
        {
            "cell_type": "code",
            "execution_count": 22,
            "metadata": {},
            "outputs": [
                {
                    "data": {
                        "text/plain": [
                            "age                                                           30\n",
                            "status                                                    single\n",
                            "sex                                                            m\n",
                            "orientation                                             straight\n",
                            "body_type                                              mesomorph\n",
                            "drinks                                                  socially\n",
                            "education                                        College or more\n",
                            "height                                                     188.0\n",
                            "job                                                  unspecified\n",
                            "location                               san francisco, california\n",
                            "religion                           atheism and laughing about it\n",
                            "smokes                                                        no\n",
                            "essay0         i moved here recently and love this place. i'm...\n",
                            "essay1         settling into a new city, figuring out how bio...\n",
                            "essay2         making stuff, thinking about stuff and doing s...\n",
                            "essay3         depends. i've been told my eyes (isn't this th...\n",
                            "essay4         books: 1491. omnivore's dilemma. the amazing a...\n",
                            "essay5           cities mountains travel bike friends creativity\n",
                            "essay6         symbiosis. where to go this weekend. politics....\n",
                            "essay7         getting ready for the weekend, riding bikes, d...\n",
                            "essay8         i'm a sucker for pictures/youtube videos of ba...\n",
                            "essay9         you're bright, funny, creative and interesting...\n",
                            "likes_dogs                                                   Yes\n",
                            "likes_cats                                                   Yes\n",
                            "Name: 28, dtype: object"
                        ]
                    },
                    "execution_count": 22,
                    "metadata": {},
                    "output_type": "execute_result"
                }
            ],
            "source": [
                "data.iloc[28]"
            ]
        }
    ],
    "metadata": {
        "kernelspec": {
            "display_name": ".venv",
            "language": "python",
            "name": "python3"
        },
        "language_info": {
            "codemirror_mode": {
                "name": "ipython",
                "version": 3
            },
            "file_extension": ".py",
            "mimetype": "text/x-python",
            "name": "python",
            "nbconvert_exporter": "python",
            "pygments_lexer": "ipython3",
            "version": "3.12.3"
        }
    },
    "nbformat": 4,
    "nbformat_minor": 2
}
