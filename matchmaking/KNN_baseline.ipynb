{
    "cells": [
        {
            "cell_type": "code",
            "execution_count": 1,
            "metadata": {},
            "outputs": [
                {
                    "name": "stdout",
                    "output_type": "stream",
                    "text": [
                        "c:\\Users\\nick\\Desktop\\HSE\\DatingGNN\n"
                    ]
                }
            ],
            "source": [
                "%cd .."
            ]
        },
        {
            "cell_type": "code",
            "execution_count": 2,
            "metadata": {
                "execution": {
                    "iopub.execute_input": "2023-12-17T07:20:54.287781Z",
                    "iopub.status.busy": "2023-12-17T07:20:54.287256Z",
                    "iopub.status.idle": "2023-12-17T07:20:54.295571Z",
                    "shell.execute_reply": "2023-12-17T07:20:54.294389Z",
                    "shell.execute_reply.started": "2023-12-17T07:20:54.287744Z"
                },
                "id": "ceZ_t_sVYvJo",
                "jupyter": {
                    "is_executing": true
                },
                "scrolled": true,
                "trusted": true
            },
            "outputs": [],
            "source": [
                "import re\n",
                "import numpy as np\n",
                "import pandas as pd\n",
                "from pandas.api.types import CategoricalDtype\n",
                "import matplotlib.pyplot as plt\n",
                "import seaborn as sns\n",
                "from utils.parse_dataset import parse_dataset"
            ]
        },
        {
            "cell_type": "code",
            "execution_count": 3,
            "metadata": {
                "execution": {
                    "iopub.execute_input": "2023-12-17T07:20:54.576698Z",
                    "iopub.status.busy": "2023-12-17T07:20:54.576266Z",
                    "iopub.status.idle": "2023-12-17T07:20:56.765883Z",
                    "shell.execute_reply": "2023-12-17T07:20:56.764678Z",
                    "shell.execute_reply.started": "2023-12-17T07:20:54.576664Z"
                },
                "id": "dk6-wYRRYvJp",
                "scrolled": true,
                "trusted": true
            },
            "outputs": [],
            "source": [
                "df = parse_dataset()"
            ]
        },
        {
            "cell_type": "code",
            "execution_count": 4,
            "metadata": {
                "execution": {
                    "iopub.execute_input": "2023-12-17T07:20:57.415846Z",
                    "iopub.status.busy": "2023-12-17T07:20:57.415505Z",
                    "iopub.status.idle": "2023-12-17T07:20:57.497937Z",
                    "shell.execute_reply": "2023-12-17T07:20:57.496595Z",
                    "shell.execute_reply.started": "2023-12-17T07:20:57.415810Z"
                },
                "id": "_Bazos8CYvJq",
                "trusted": true
            },
            "outputs": [],
            "source": [
                "# Convert inches to cm\n",
                "df[\"height\"] = df[\"height\"].apply(lambda x: round(x * 2.54, 0))"
            ]
        },
        {
            "cell_type": "markdown",
            "metadata": {
                "id": "E11YFi5KYvJq"
            },
            "source": [
                "**Missing Values**"
            ]
        },
        {
            "cell_type": "code",
            "execution_count": 5,
            "metadata": {
                "execution": {
                    "iopub.execute_input": "2023-12-17T07:20:57.532059Z",
                    "iopub.status.busy": "2023-12-17T07:20:57.531733Z",
                    "iopub.status.idle": "2023-12-17T07:20:57.582746Z",
                    "shell.execute_reply": "2023-12-17T07:20:57.581504Z",
                    "shell.execute_reply.started": "2023-12-17T07:20:57.532025Z"
                },
                "id": "6mSO8FPMYvJq",
                "trusted": true
            },
            "outputs": [],
            "source": [
                "mask = df[\"height\"].mean()\n",
                "df.loc[mask, \"height\"] = df[\"height\"].median()"
            ]
        },
        {
            "cell_type": "code",
            "execution_count": 6,
            "metadata": {
                "execution": {
                    "iopub.execute_input": "2023-12-17T07:20:57.586273Z",
                    "iopub.status.busy": "2023-12-17T07:20:57.585830Z",
                    "iopub.status.idle": "2023-12-17T07:20:57.593825Z",
                    "shell.execute_reply": "2023-12-17T07:20:57.592627Z",
                    "shell.execute_reply.started": "2023-12-17T07:20:57.586239Z"
                },
                "id": "o997tsaoYvJq",
                "trusted": true
            },
            "outputs": [],
            "source": [
                "df.loc[df.income == -1, \"income\"] = np.nan"
            ]
        },
        {
            "cell_type": "code",
            "execution_count": 7,
            "metadata": {
                "colab": {
                    "base_uri": "https://localhost:8080/"
                },
                "execution": {
                    "iopub.execute_input": "2023-12-17T07:20:57.599428Z",
                    "iopub.status.busy": "2023-12-17T07:20:57.598302Z",
                    "iopub.status.idle": "2023-12-17T07:20:57.609019Z",
                    "shell.execute_reply": "2023-12-17T07:20:57.607867Z",
                    "shell.execute_reply.started": "2023-12-17T07:20:57.599380Z"
                },
                "id": "c0WRselWYvJr",
                "outputId": "7e730427-7377-460a-c0e6-ed75db148cd3",
                "trusted": true
            },
            "outputs": [
                {
                    "name": "stdout",
                    "output_type": "stream",
                    "text": [
                        "People that do not declare income: 81%\n"
                    ]
                }
            ],
            "source": [
                "print(f\"People that do not declare income: {df.income.isna().sum() / len(df):0.0%}\")"
            ]
        },
        {
            "cell_type": "code",
            "execution_count": 8,
            "metadata": {
                "execution": {
                    "iopub.execute_input": "2023-12-17T07:20:57.610934Z",
                    "iopub.status.busy": "2023-12-17T07:20:57.610615Z",
                    "iopub.status.idle": "2023-12-17T07:20:58.352369Z",
                    "shell.execute_reply": "2023-12-17T07:20:58.351112Z",
                    "shell.execute_reply.started": "2023-12-17T07:20:57.610907Z"
                },
                "id": "PfRsAI_4YvJr",
                "trusted": true
            },
            "outputs": [],
            "source": [
                "isna_cols = df.loc[:, df.isna().any()].columns\n",
                "missing_values = df[isna_cols[:12]].isna().sum().sort_values(ascending=False)"
            ]
        },
        {
            "cell_type": "code",
            "execution_count": 9,
            "metadata": {
                "colab": {
                    "base_uri": "https://localhost:8080/",
                    "height": 494
                },
                "execution": {
                    "iopub.execute_input": "2023-12-17T07:20:58.364753Z",
                    "iopub.status.busy": "2023-12-17T07:20:58.364046Z",
                    "iopub.status.idle": "2023-12-17T07:20:59.044259Z",
                    "shell.execute_reply": "2023-12-17T07:20:59.043048Z",
                    "shell.execute_reply.started": "2023-12-17T07:20:58.364702Z"
                },
                "id": "04XQoxPVYvJr",
                "outputId": "598a9217-bb6c-4e8f-b912-934cdc08c54e",
                "trusted": true
            },
            "outputs": [
                {
                    "data": {
                        "image/png": "[encoded data removed]",
                        "text/plain": [
                            "<Figure size 800x400 with 1 Axes>"
                        ]
                    },
                    "metadata": {},
                    "output_type": "display_data"
                }
            ],
            "source": [
                "# Visualizing Missing Values Per Feature\n",
                "plt.style.use(\"ggplot\")\n",
                "fig, ax = plt.subplots(figsize=(8, 4))\n",
                "sns.barplot(x=missing_values.index, y=missing_values, color=\"skyblue\", ax=ax)\n",
                "ax.set(\n",
                "    xticks=range(len(missing_values)),\n",
                "    xticklabels=missing_values.index,  # Rotate labels inside set\n",
                "    title=\"Missing values per feature (excluding essays)\",\n",
                "    ylabel=\"Count\",\n",
                "    xlabel=\"Feature\"\n",
                ")\n",
                "plt.xticks(rotation=45, ha=\"right\")\n",
                "fig.tight_layout()\n",
                "plt.show()"
            ]
        },
        {
            "cell_type": "code",
            "execution_count": 10,
            "metadata": {
                "colab": {
                    "base_uri": "https://localhost:8080/",
                    "height": 486
                },
                "execution": {
                    "iopub.execute_input": "2023-12-17T07:20:59.594264Z",
                    "iopub.status.busy": "2023-12-17T07:20:59.593798Z",
                    "iopub.status.idle": "2023-12-17T07:21:00.302682Z",
                    "shell.execute_reply": "2023-12-17T07:21:00.301731Z",
                    "shell.execute_reply.started": "2023-12-17T07:20:59.594231Z"
                },
                "id": "orL-Kn7WYvJr",
                "outputId": "9191c5bc-4daa-4f3c-a13f-71096103b8c4",
                "trusted": true
            },
            "outputs": [
                {
                    "data": {
                        "text/plain": [
                            "<Axes: xlabel='orientation', ylabel='count'>"
                        ]
                    },
                    "execution_count": 10,
                    "metadata": {},
                    "output_type": "execute_result"
                },
                {
                    "data": {
                        "image/png": "[encoded data removed]",
                        "text/plain": [
                            "<Figure size 800x400 with 2 Axes>"
                        ]
                    },
                    "metadata": {},
                    "output_type": "display_data"
                }
            ],
            "source": [
                "# Sex distribution, Orientation\n",
                "\n",
                "fig1, ax1 = plt.subplots(ncols=2, figsize=(8, 4))\n",
                "cat_cols = [\"sex\", \"orientation\"]\n",
                "titles = [\"Sex distribution\", \"Sexual orientation\"]\n",
                "\n",
                "sns.countplot(data=df, x=\"sex\", ax=ax1[0], width=0.4, hue=\"sex\")\n",
                "sns.countplot(data=df, x=\"orientation\", hue=\"sex\", ax=ax1[1])"
            ]
        },
        {
            "cell_type": "code",
            "execution_count": 11,
            "metadata": {
                "colab": {
                    "base_uri": "https://localhost:8080/",
                    "height": 492
                },
                "execution": {
                    "iopub.execute_input": "2023-12-17T07:21:00.304823Z",
                    "iopub.status.busy": "2023-12-17T07:21:00.304102Z",
                    "iopub.status.idle": "2023-12-17T07:21:02.274363Z",
                    "shell.execute_reply": "2023-12-17T07:21:02.273154Z",
                    "shell.execute_reply.started": "2023-12-17T07:21:00.304789Z"
                },
                "id": "54lz6jMQYvJr",
                "outputId": "81c2f4e3-5cc2-4181-ef87-b7f8800160d8",
                "trusted": true
            },
            "outputs": [
                {
                    "data": {
                        "image/png": "[encoded data removed]",
                        "text/plain": [
                            "<Figure size 1000x500 with 2 Axes>"
                        ]
                    },
                    "metadata": {},
                    "output_type": "display_data"
                }
            ],
            "source": [
                "# Age, Height\n",
                "df[\"age\"] = df[\"age\"].fillna(df[\"age\"].mean())\n",
                "df[\"height\"] = df[\"height\"].fillna(df[\"height\"].mean())\n",
                "\n",
                "sns.set_style(\"white\")\n",
                "num_cols = [\"age\", \"height\"]\n",
                "xlims = [(15, 70), (130, 220)]\n",
                "titles = [\"AgeDistribution\", \"Height Distribution\"]\n",
                "fig2, ax2 = plt.subplots(ncols=2, figsize=(10, 5), sharey=False)\n",
                "for i, col in enumerate(num_cols):\n",
                "    sns.histplot(\n",
                "        data=df, x=col, ax=ax2[i], hue=\"sex\", element=\"step\", bins=40, alpha=0.4\n",
                "    )\n",
                "    ax2[i].set(xlim=xlims[i], title=titles[i])"
            ]
        },
        {
            "cell_type": "code",
            "execution_count": 12,
            "metadata": {
                "colab": {
                    "base_uri": "https://localhost:8080/",
                    "height": 272
                },
                "execution": {
                    "iopub.execute_input": "2023-12-17T07:21:02.275913Z",
                    "iopub.status.busy": "2023-12-17T07:21:02.275574Z",
                    "iopub.status.idle": "2023-12-17T07:21:02.459058Z",
                    "shell.execute_reply": "2023-12-17T07:21:02.457982Z",
                    "shell.execute_reply.started": "2023-12-17T07:21:02.275884Z"
                },
                "id": "L7QXKcryYvJr",
                "outputId": "95ea8075-4d0e-4f1c-9d1a-b4d15d439f8f",
                "trusted": true
            },
            "outputs": [
                {
                    "data": {
                        "text/plain": [
                            "state_\n",
                            "california       99.85\n",
                            "new york          0.03\n",
                            "illinois          0.01\n",
                            "massachusetts     0.01\n",
                            "oregon            0.01\n",
                            "Name: proportion, dtype: float64"
                        ]
                    },
                    "execution_count": 12,
                    "metadata": {},
                    "output_type": "execute_result"
                }
            ],
            "source": [
                "# Location\n",
                "df[[\"city_\", \"state_\"]] = df.location.str.split(pat=\", \", expand=True).loc[:, 0:1]\n",
                "df.loc[:, [\"location\", \"city_\", \"state_\"]]\n",
                "df.state_.value_counts(normalize=True).round(4)[:5] * 100"
            ]
        },
        {
            "cell_type": "code",
            "execution_count": 13,
            "metadata": {
                "execution": {
                    "iopub.execute_input": "2023-12-17T07:21:02.462203Z",
                    "iopub.status.busy": "2023-12-17T07:21:02.461770Z",
                    "iopub.status.idle": "2023-12-17T07:21:02.484118Z",
                    "shell.execute_reply": "2023-12-17T07:21:02.482566Z",
                    "shell.execute_reply.started": "2023-12-17T07:21:02.462158Z"
                },
                "id": "XP3mCfaLYvJr",
                "trusted": true
            },
            "outputs": [
                {
                    "data": {
                        "text/plain": [
                            "city_\n",
                            "san francisco    51.8\n",
                            "oakland          12.0\n",
                            "berkeley          7.0\n",
                            "Name: proportion, dtype: float64"
                        ]
                    },
                    "execution_count": 13,
                    "metadata": {},
                    "output_type": "execute_result"
                }
            ],
            "source": [
                "city_count = df.city_.value_counts(normalize=True).round(3)[:20] * 100\n",
                "city_count.head(3)"
            ]
        },
        {
            "cell_type": "markdown",
            "metadata": {
                "id": "M-yZhiL1YvJs"
            },
            "source": [
                "Almost 100% of users are located in California, and more of 50% in San Francisco\n",
                "\n",
                "\n",
                "## Mapping categories\n",
                "\n",
                "As there are columns that have several unique values, with teh function below we can map strings into a selected group of few categories, using an ad-hoc dictionary for each features.\n",
                "\n",
                "I will use an underscore at the end of each handcrafted feature."
            ]
        },
        {
            "cell_type": "code",
            "execution_count": 14,
            "metadata": {
                "execution": {
                    "iopub.execute_input": "2023-12-17T07:21:03.299488Z",
                    "iopub.status.busy": "2023-12-17T07:21:03.299086Z",
                    "iopub.status.idle": "2023-12-17T07:21:03.306763Z",
                    "shell.execute_reply": "2023-12-17T07:21:03.305394Z",
                    "shell.execute_reply.started": "2023-12-17T07:21:03.299453Z"
                },
                "id": "d9tkrjkQYvJs",
                "trusted": true
            },
            "outputs": [],
            "source": [
                "def map_cat(a_string, a_dic):\n",
                "    \"\"\"\n",
                "    a_string: a string we want to map with a_dic\n",
                "    a_dic: a dictionary whose keys are tuples\n",
                "    \"\"\"\n",
                "    for k in a_dic:\n",
                "        if a_string in k:\n",
                "            return a_dic.get(k)\n",
                "    return np.nan"
            ]
        },
        {
            "cell_type": "code",
            "execution_count": 15,
            "metadata": {
                "colab": {
                    "base_uri": "https://localhost:8080/",
                    "height": 523
                },
                "execution": {
                    "iopub.execute_input": "2023-12-17T07:21:03.308654Z",
                    "iopub.status.busy": "2023-12-17T07:21:03.308106Z",
                    "iopub.status.idle": "2023-12-17T07:21:03.325832Z",
                    "shell.execute_reply": "2023-12-17T07:21:03.324268Z",
                    "shell.execute_reply.started": "2023-12-17T07:21:03.308615Z"
                },
                "id": "3eZLgoz4YvJs",
                "outputId": "37ce9a02-fcce-4f13-bedc-adbcb9924682",
                "trusted": true
            },
            "outputs": [
                {
                    "data": {
                        "text/plain": [
                            "body_type\n",
                            "average           14652\n",
                            "fit               12711\n",
                            "athletic          11819\n",
                            "NaN                5297\n",
                            "thin               4711\n",
                            "curvy              3924\n",
                            "a little extra     2629\n",
                            "skinny             1777\n",
                            "full figured       1009\n",
                            "overweight          444\n",
                            "jacked              421\n",
                            "used up             355\n",
                            "rather not say      198\n",
                            "Name: count, dtype: int64"
                        ]
                    },
                    "execution_count": 15,
                    "metadata": {},
                    "output_type": "execute_result"
                }
            ],
            "source": [
                "# Body Type\n",
                "df.body_type.value_counts(dropna=False)"
            ]
        },
        {
            "cell_type": "markdown",
            "metadata": {
                "id": "xsM6n_eaYvJs"
            },
            "source": [
                "Too many body types -> grouping all these body types in three categories"
            ]
        },
        {
            "cell_type": "code",
            "execution_count": 16,
            "metadata": {
                "execution": {
                    "iopub.execute_input": "2023-12-17T07:21:03.328071Z",
                    "iopub.status.busy": "2023-12-17T07:21:03.327403Z",
                    "iopub.status.idle": "2023-12-17T07:21:03.415851Z",
                    "shell.execute_reply": "2023-12-17T07:21:03.414544Z",
                    "shell.execute_reply.started": "2023-12-17T07:21:03.328038Z"
                },
                "id": "XhlPoH36YvJs",
                "trusted": true
            },
            "outputs": [],
            "source": [
                "body_types_dic = {\n",
                "    (\"skinny\", \"used up\", \"thin\"): \"ectomorph\",\n",
                "    (\"average\", \"fit\", \"athletic\", \"jacked\"): \"mesomorph\",\n",
                "    (\"a little extra\", \"curvy\", \"full figured\"): \"endomorph\",\n",
                "}\n",
                "\n",
                "body_categories = CategoricalDtype(\n",
                "    categories=[\"ectomorph\", \"mesomorph\", \"endomorph\"], ordered=True\n",
                ")\n",
                "\n",
                "df[\"body_type_\"] = df.body_type.apply(map_cat, args=(body_types_dic,)).astype(\n",
                "    body_categories\n",
                ")\n",
                "df.body_type_ = df.body_type_.fillna(\n",
                "    body_categories.categories[int(np.median(df.body_type_.cat.codes))]\n",
                ")"
            ]
        },
        {
            "cell_type": "code",
            "execution_count": 17,
            "metadata": {
                "execution": {
                    "iopub.execute_input": "2023-12-17T07:21:03.418029Z",
                    "iopub.status.busy": "2023-12-17T07:21:03.417683Z",
                    "iopub.status.idle": "2023-12-17T07:21:03.424580Z",
                    "shell.execute_reply": "2023-12-17T07:21:03.423205Z",
                    "shell.execute_reply.started": "2023-12-17T07:21:03.418001Z"
                },
                "id": "BDPj13sOYvJs",
                "trusted": true
            },
            "outputs": [],
            "source": [
                "education_categories = CategoricalDtype(\n",
                "    categories=[\n",
                "        \"High school or less\",\n",
                "        \"Some college\",\n",
                "        \"College or more\",\n",
                "        \"Post graduate degree\",\n",
                "    ],\n",
                "    ordered=True,\n",
                ")"
            ]
        },
        {
            "cell_type": "code",
            "execution_count": 18,
            "metadata": {
                "execution": {
                    "iopub.execute_input": "2023-12-17T07:21:03.426601Z",
                    "iopub.status.busy": "2023-12-17T07:21:03.426222Z",
                    "iopub.status.idle": "2023-12-17T07:21:03.437891Z",
                    "shell.execute_reply": "2023-12-17T07:21:03.436248Z",
                    "shell.execute_reply.started": "2023-12-17T07:21:03.426569Z"
                },
                "id": "xRujuwHlYvJs",
                "trusted": true
            },
            "outputs": [],
            "source": [
                "education_dic = {\n",
                "    (\n",
                "        \"graduated from high school\",\n",
                "        \"dropped out of high school\",\n",
                "        \"working on high school\",\n",
                "        \"high school\",\n",
                "    ): \"High school or less\",\n",
                "    (\n",
                "        \"working on two-year college\",\n",
                "        \"dropped out of space camp\",\n",
                "        \"two-year college\",\n",
                "        \"graduated from two-year college\",\n",
                "        \"dropped out of college/university\",\n",
                "        \"dropped out of two-year college\",\n",
                "        \"dropped out of med school\",\n",
                "        \"dropped out of law school\",\n",
                "    ): \"Some college\",\n",
                "    (\n",
                "        \"working on college/university\",\n",
                "        \"working on space camp\",\n",
                "        \"graduated from masters program\",\n",
                "        \"graduated from college/university\",\n",
                "        \"working on masters program\",\n",
                "        \"graduated from space camp\",\n",
                "        \"college/university\",\n",
                "        \"graduated from law school\",\n",
                "        \"working on ph.d program\",\n",
                "        \"space camp\",\n",
                "        \"graduated from med school\",\n",
                "        \"working on med school\",\n",
                "        \"masters program\",\n",
                "        \"dropped out of ph.d program\",\n",
                "        \"law school\",\n",
                "        \"dropped out of masters program\",\n",
                "        \"working on law school\",\n",
                "        \"med school\",\n",
                "    ): \"College or more\",\n",
                "    (\"graduated from ph.d program\", \"ph.d program\"): \"Post graduate degree\",\n",
                "}"
            ]
        },
        {
            "cell_type": "code",
            "execution_count": 19,
            "metadata": {
                "execution": {
                    "iopub.execute_input": "2023-12-17T07:21:03.443806Z",
                    "iopub.status.busy": "2023-12-17T07:21:03.443301Z",
                    "iopub.status.idle": "2023-12-17T07:21:03.546488Z",
                    "shell.execute_reply": "2023-12-17T07:21:03.545327Z",
                    "shell.execute_reply.started": "2023-12-17T07:21:03.443739Z"
                },
                "id": "6vJ2vnfQYvJs",
                "trusted": true
            },
            "outputs": [],
            "source": [
                "df[\"education_\"] = df.education.apply(map_cat, args=(education_dic,)).astype(\n",
                "    education_categories\n",
                ")"
            ]
        },
        {
            "cell_type": "markdown",
            "metadata": {
                "id": "ARsxYAY4YvJs"
            },
            "source": [
                "Let's assign the median value of the category to the missing values of this feature."
            ]
        },
        {
            "cell_type": "code",
            "execution_count": 20,
            "metadata": {
                "execution": {
                    "iopub.execute_input": "2023-12-17T07:21:03.549600Z",
                    "iopub.status.busy": "2023-12-17T07:21:03.549085Z",
                    "iopub.status.idle": "2023-12-17T07:21:03.558239Z",
                    "shell.execute_reply": "2023-12-17T07:21:03.556762Z",
                    "shell.execute_reply.started": "2023-12-17T07:21:03.549555Z"
                },
                "id": "nAMFmemCYvJs",
                "trusted": true
            },
            "outputs": [],
            "source": [
                "df.education_ = df.education_.fillna(\n",
                "    education_categories.categories[int(np.median(df[\"education_\"].cat.codes))]\n",
                ").astype(education_categories)"
            ]
        },
        {
            "cell_type": "code",
            "execution_count": 21,
            "metadata": {
                "colab": {
                    "base_uri": "https://localhost:8080/",
                    "height": 492
                },
                "execution": {
                    "iopub.execute_input": "2023-12-17T07:21:03.560550Z",
                    "iopub.status.busy": "2023-12-17T07:21:03.559937Z",
                    "iopub.status.idle": "2023-12-17T07:21:04.249697Z",
                    "shell.execute_reply": "2023-12-17T07:21:04.248593Z",
                    "shell.execute_reply.started": "2023-12-17T07:21:03.560506Z"
                },
                "id": "N0UP1mkmYvJs",
                "outputId": "018157a6-65b5-4aea-b0e7-428f90a27808",
                "trusted": true
            },
            "outputs": [
                {
                    "data": {
                        "text/plain": [
                            "([0, 1, 2, 3],\n",
                            " [Text(0, 0, 'High school or less'),\n",
                            "  Text(1, 0, 'Some college'),\n",
                            "  Text(2, 0, 'College or more'),\n",
                            "  Text(3, 0, 'Post graduate degree')])"
                        ]
                    },
                    "execution_count": 21,
                    "metadata": {},
                    "output_type": "execute_result"
                },
                {
                    "data": {
                        "image/png": "[encoded data removed]",
                        "text/plain": [
                            "<Figure size 1000x500 with 2 Axes>"
                        ]
                    },
                    "metadata": {},
                    "output_type": "display_data"
                }
            ],
            "source": [
                "sns.set_style(\"darkgrid\")\n",
                "cat_cols = [\"body_type_\", \"education_\"]\n",
                "titles = [\"Body Type\", \"Education\"]\n",
                "fig4, ax4 = plt.subplots(ncols=2, figsize=(10, 5), sharey=True)\n",
                "for i, col in enumerate(cat_cols):\n",
                "    sns.countplot(data=df, x=col, ax=ax4[i], hue=\"sex\")\n",
                "    ax4[i].set(title=titles[i])\n",
                "plt.xticks(rotation=45, ha=\"right\")"
            ]
        },
        {
            "cell_type": "code",
            "execution_count": 22,
            "metadata": {
                "execution": {
                    "iopub.execute_input": "2023-12-17T07:21:04.252749Z",
                    "iopub.status.busy": "2023-12-17T07:21:04.252294Z",
                    "iopub.status.idle": "2023-12-17T07:21:04.272060Z",
                    "shell.execute_reply": "2023-12-17T07:21:04.270924Z",
                    "shell.execute_reply.started": "2023-12-17T07:21:04.252656Z"
                },
                "id": "5oCCARPSYvJs",
                "trusted": true
            },
            "outputs": [],
            "source": [
                "# Drinks\n",
                "drinks_categories = CategoricalDtype(\n",
                "    categories=[\n",
                "        \"not at all\",\n",
                "        \"rarely\",\n",
                "        \"socially\",\n",
                "        \"often\",\n",
                "        \"very often\",\n",
                "        \"desperately\",\n",
                "    ],\n",
                "    ordered=True,\n",
                ")\n",
                "df[\"drinks_\"] = df.drinks.astype(drinks_categories)\n",
                "df.drinks_ = df.drinks_.fillna(\n",
                "    drinks_categories.categories[int(np.median(df.drinks_.cat.codes))]\n",
                ")"
            ]
        },
        {
            "cell_type": "code",
            "execution_count": 23,
            "metadata": {
                "colab": {
                    "base_uri": "https://localhost:8080/",
                    "height": 240
                },
                "execution": {
                    "iopub.execute_input": "2023-12-17T07:21:04.274239Z",
                    "iopub.status.busy": "2023-12-17T07:21:04.273894Z",
                    "iopub.status.idle": "2023-12-17T07:21:04.293179Z",
                    "shell.execute_reply": "2023-12-17T07:21:04.291748Z",
                    "shell.execute_reply.started": "2023-12-17T07:21:04.274210Z"
                },
                "id": "aF7Qb8roYvJw",
                "outputId": "ef2334cc-b03e-4dc8-f098-1bf02ad20a9a",
                "trusted": true
            },
            "outputs": [
                {
                    "data": {
                        "text/plain": [
                            "drugs\n",
                            "never        37724\n",
                            "NaN          14081\n",
                            "sometimes     7732\n",
                            "often          410\n",
                            "Name: count, dtype: int64"
                        ]
                    },
                    "execution_count": 23,
                    "metadata": {},
                    "output_type": "execute_result"
                }
            ],
            "source": [
                "# Drugs\n",
                "df.drugs.value_counts(dropna=False)"
            ]
        },
        {
            "cell_type": "markdown",
            "metadata": {
                "id": "eKEZgdqNYvJw"
            },
            "source": [
                "In this case, 82% of the users declare that they never use drugs. Let's assume that we can fill the missing values with 'never'."
            ]
        },
        {
            "cell_type": "code",
            "execution_count": 24,
            "metadata": {
                "execution": {
                    "iopub.execute_input": "2023-12-17T07:21:05.046616Z",
                    "iopub.status.busy": "2023-12-17T07:21:05.046234Z",
                    "iopub.status.idle": "2023-12-17T07:21:05.069905Z",
                    "shell.execute_reply": "2023-12-17T07:21:05.068766Z",
                    "shell.execute_reply.started": "2023-12-17T07:21:05.046587Z"
                },
                "id": "peGrp57eYvJw",
                "trusted": true
            },
            "outputs": [],
            "source": [
                "df[\"drugs_\"] = df.drugs.fillna(\"never\")\n",
                "df.drugs_ = pd.Categorical(\n",
                "    df.drugs_, categories=[\"never\", \"sometimes\", \"often\"], ordered=True\n",
                ")"
            ]
        },
        {
            "cell_type": "code",
            "execution_count": 25,
            "metadata": {
                "colab": {
                    "base_uri": "https://localhost:8080/",
                    "height": 303
                },
                "execution": {
                    "iopub.execute_input": "2023-12-17T07:21:05.306348Z",
                    "iopub.status.busy": "2023-12-17T07:21:05.305926Z",
                    "iopub.status.idle": "2023-12-17T07:21:05.320750Z",
                    "shell.execute_reply": "2023-12-17T07:21:05.319486Z",
                    "shell.execute_reply.started": "2023-12-17T07:21:05.306308Z"
                },
                "id": "qn1Tf7O8YvJw",
                "outputId": "ae440283-f516-4ddb-9e91-f8f94b23eff6",
                "trusted": true
            },
            "outputs": [
                {
                    "data": {
                        "text/plain": [
                            "smokes\n",
                            "no                43896\n",
                            "NaN                5513\n",
                            "sometimes          3787\n",
                            "when drinking      3040\n",
                            "yes                2231\n",
                            "trying to quit     1480\n",
                            "Name: count, dtype: int64"
                        ]
                    },
                    "execution_count": 25,
                    "metadata": {},
                    "output_type": "execute_result"
                }
            ],
            "source": [
                "df.smokes.value_counts(dropna=False)"
            ]
        },
        {
            "cell_type": "code",
            "execution_count": 26,
            "metadata": {
                "colab": {
                    "base_uri": "https://localhost:8080/"
                },
                "execution": {
                    "iopub.execute_input": "2023-12-17T07:21:05.826555Z",
                    "iopub.status.busy": "2023-12-17T07:21:05.826116Z",
                    "iopub.status.idle": "2023-12-17T07:21:05.834913Z",
                    "shell.execute_reply": "2023-12-17T07:21:05.833555Z",
                    "shell.execute_reply.started": "2023-12-17T07:21:05.826523Z"
                },
                "id": "mguh_irSYvJw",
                "outputId": "1197178f-c5dc-4aab-c930-4f4c6b583789",
                "trusted": true
            },
            "outputs": [
                {
                    "data": {
                        "text/plain": [
                            "0.7322468180225866"
                        ]
                    },
                    "execution_count": 26,
                    "metadata": {},
                    "output_type": "execute_result"
                }
            ],
            "source": [
                "43896 / len(df)"
            ]
        },
        {
            "cell_type": "markdown",
            "metadata": {
                "id": "tDOabEJQYvJw"
            },
            "source": [
                "As 73% of individuals don't smoke. So we will fill the missing values with 'no'."
            ]
        },
        {
            "cell_type": "code",
            "execution_count": 27,
            "metadata": {
                "colab": {
                    "base_uri": "https://localhost:8080/",
                    "height": 209
                },
                "execution": {
                    "iopub.execute_input": "2023-12-17T07:21:06.657090Z",
                    "iopub.status.busy": "2023-12-17T07:21:06.656108Z",
                    "iopub.status.idle": "2023-12-17T07:21:06.743868Z",
                    "shell.execute_reply": "2023-12-17T07:21:06.742583Z",
                    "shell.execute_reply.started": "2023-12-17T07:21:06.657051Z"
                },
                "id": "VWMCMJIsYvJx",
                "outputId": "9eed6ca6-2b87-4e3e-b6cf-21b5718068a1",
                "trusted": true
            },
            "outputs": [
                {
                    "data": {
                        "text/plain": [
                            "smokes_\n",
                            "no           49409\n",
                            "sometimes     8307\n",
                            "yes           2231\n",
                            "Name: count, dtype: int64"
                        ]
                    },
                    "execution_count": 27,
                    "metadata": {},
                    "output_type": "execute_result"
                }
            ],
            "source": [
                "smokes_dic = {\n",
                "    (\"no\",): \"no\",\n",
                "    (\"sometimes\", \"when drinking\", \"trying to quit\"): \"sometimes\",\n",
                "    (\"yes\",): \"yes\",\n",
                "}\n",
                "smokes_categories = CategoricalDtype(\n",
                "    categories=[\"no\", \"sometimes\", \"yes\"], ordered=True\n",
                ")\n",
                "df[\"smokes_\"] = df.smokes.apply(map_cat, args=(smokes_dic,)).astype(smokes_categories)\n",
                "df.smokes_ = df.smokes_.fillna(\"no\").astype(smokes_categories)\n",
                "df.smokes_.value_counts(dropna=False).sort_index()"
            ]
        },
        {
            "cell_type": "code",
            "execution_count": 28,
            "metadata": {
                "colab": {
                    "base_uri": "https://localhost:8080/",
                    "height": 607
                },
                "execution": {
                    "iopub.execute_input": "2023-12-17T07:21:07.247960Z",
                    "iopub.status.busy": "2023-12-17T07:21:07.247592Z",
                    "iopub.status.idle": "2023-12-17T07:21:08.279890Z",
                    "shell.execute_reply": "2023-12-17T07:21:08.278544Z",
                    "shell.execute_reply.started": "2023-12-17T07:21:07.247932Z"
                },
                "id": "NBuO4K-_YvJx",
                "outputId": "462c6341-4b20-4b37-cd4c-321cf131cb6d",
                "trusted": true
            },
            "outputs": [
                {
                    "data": {
                        "image/png": "[encoded data removed]",
                        "text/plain": [
                            "<Figure size 1000x400 with 3 Axes>"
                        ]
                    },
                    "metadata": {},
                    "output_type": "display_data"
                }
            ],
            "source": [
                "sns.set_style(\"darkgrid\")\n",
                "cat_cols = [\"drinks_\", \"drugs_\", \"smokes_\"]\n",
                "titles = [\"Drinks\", \"Drugs\", \"Smokes\"]\n",
                "xlabels = [\n",
                "    list(drinks_categories.categories),\n",
                "    [\"never\", \"sometimes\", \"often\"],\n",
                "    list(smokes_categories.categories),\n",
                "]\n",
                "ticks = [6, 3, 3]\n",
                "fig5, ax5 = plt.subplots(ncols=3, figsize=(10, 4), sharey=True)\n",
                "for i, col in enumerate(cat_cols):\n",
                "    sns.countplot(data=df, x=col, ax=ax5[i], hue=\"sex\")\n",
                "    ax5[i].set(title=titles[i], xticks=range(len(xlabels[i])), xlabel=\"\", ylabel=\"\")\n",
                "    ax5[i].set_xticklabels(labels=xlabels[i], rotation=60, fontsize=12)\n",
                "fig5.tight_layout()"
            ]
        },
        {
            "cell_type": "code",
            "execution_count": 29,
            "metadata": {
                "colab": {
                    "base_uri": "https://localhost:8080/",
                    "height": 617
                },
                "execution": {
                    "iopub.execute_input": "2023-12-17T07:21:08.282550Z",
                    "iopub.status.busy": "2023-12-17T07:21:08.282076Z",
                    "iopub.status.idle": "2023-12-17T07:21:08.296915Z",
                    "shell.execute_reply": "2023-12-17T07:21:08.295341Z",
                    "shell.execute_reply.started": "2023-12-17T07:21:08.282468Z"
                },
                "id": "dor2y6VoYvJx",
                "outputId": "eb8ec8dc-d1fa-45e8-d2f5-5448e88520c7",
                "trusted": true
            },
            "outputs": [
                {
                    "data": {
                        "text/plain": [
                            "pets\n",
                            "NaN                                19922\n",
                            "likes dogs and likes cats          14814\n",
                            "likes dogs                          7224\n",
                            "likes dogs and has cats             4313\n",
                            "has dogs                            4134\n",
                            "has dogs and likes cats             2333\n",
                            "likes dogs and dislikes cats        2029\n",
                            "has dogs and has cats               1474\n",
                            "has cats                            1406\n",
                            "likes cats                          1063\n",
                            "has dogs and dislikes cats           552\n",
                            "dislikes dogs and likes cats         240\n",
                            "dislikes dogs and dislikes cats      196\n",
                            "dislikes cats                        122\n",
                            "dislikes dogs and has cats            81\n",
                            "dislikes dogs                         44\n",
                            "Name: count, dtype: int64"
                        ]
                    },
                    "execution_count": 29,
                    "metadata": {},
                    "output_type": "execute_result"
                }
            ],
            "source": [
                "# Pets\n",
                "df.pets.value_counts(dropna=False)"
            ]
        },
        {
            "cell_type": "markdown",
            "metadata": {
                "id": "mH4YibrMYvJx"
            },
            "source": [
                "It makes sense to create two new columns: likes_dogs, likes_cats. we assign 1 if the user has or likes the corresponding kind of pet, and 0 if he does not. Let's assign a 0 in case of missing values (np.nan), in order to be in the safe zone in regards of this feature."
            ]
        },
        {
            "cell_type": "code",
            "execution_count": 30,
            "metadata": {
                "execution": {
                    "iopub.execute_input": "2023-12-17T07:21:08.298732Z",
                    "iopub.status.busy": "2023-12-17T07:21:08.298319Z",
                    "iopub.status.idle": "2023-12-17T07:21:08.328564Z",
                    "shell.execute_reply": "2023-12-17T07:21:08.327332Z",
                    "shell.execute_reply.started": "2023-12-17T07:21:08.298645Z"
                },
                "id": "8Q9a-vdZYvJx",
                "trusted": true
            },
            "outputs": [],
            "source": [
                "df.pets = df.pets.fillna(\"No\")"
            ]
        },
        {
            "cell_type": "code",
            "execution_count": 31,
            "metadata": {
                "execution": {
                    "iopub.execute_input": "2023-12-17T07:21:08.438127Z",
                    "iopub.status.busy": "2023-12-17T07:21:08.437033Z",
                    "iopub.status.idle": "2023-12-17T07:21:08.445033Z",
                    "shell.execute_reply": "2023-12-17T07:21:08.443621Z",
                    "shell.execute_reply.started": "2023-12-17T07:21:08.438088Z"
                },
                "id": "IuPWPOAhYvJx",
                "trusted": true
            },
            "outputs": [],
            "source": [
                "def likes_pet(s, species):\n",
                "    dogs_regex = re.compile(r\"((?<!dis)likes |has )dogs\")\n",
                "    cats_regex = re.compile(r\"((?<!dis)likes |has )cats\")\n",
                "    if species == \"dog\":\n",
                "        return \"Yes\" if bool(dogs_regex.search(s)) else \"No\"\n",
                "    elif species == \"cat\":\n",
                "        return \"Yes\" if bool(cats_regex.search(s)) else \"No\"\n",
                "    else:\n",
                "        return \"No\""
            ]
        },
        {
            "cell_type": "code",
            "execution_count": 32,
            "metadata": {
                "execution": {
                    "iopub.execute_input": "2023-12-17T07:21:08.967920Z",
                    "iopub.status.busy": "2023-12-17T07:21:08.967517Z",
                    "iopub.status.idle": "2023-12-17T07:21:09.448136Z",
                    "shell.execute_reply": "2023-12-17T07:21:09.447014Z",
                    "shell.execute_reply.started": "2023-12-17T07:21:08.967887Z"
                },
                "id": "TFO-2qoAYvJx",
                "trusted": true
            },
            "outputs": [],
            "source": [
                "df[\"likes_dogs_\"] = df.pets.apply(likes_pet, args=(\"dog\",))\n",
                "df[\"likes_cats_\"] = df.pets.apply(likes_pet, args=(\"cat\",))\n",
                "df[\"likes_dogs_\"] = pd.Categorical(\n",
                "    df.likes_dogs_, categories=[\"No\", \"Yes\"], ordered=True\n",
                ")\n",
                "df[\"likes_cats_\"] = pd.Categorical(\n",
                "    df.likes_cats_, categories=[\"No\", \"Yes\"], ordered=True\n",
                ")"
            ]
        },
        {
            "cell_type": "code",
            "execution_count": 33,
            "metadata": {
                "colab": {
                    "base_uri": "https://localhost:8080/",
                    "height": 469
                },
                "execution": {
                    "iopub.execute_input": "2023-12-17T07:21:09.450698Z",
                    "iopub.status.busy": "2023-12-17T07:21:09.450272Z",
                    "iopub.status.idle": "2023-12-17T07:21:10.030459Z",
                    "shell.execute_reply": "2023-12-17T07:21:10.029117Z",
                    "shell.execute_reply.started": "2023-12-17T07:21:09.450659Z"
                },
                "id": "ISrVlFDBYvJx",
                "outputId": "5767857d-6702-473a-baf2-85af41bfe8ba",
                "trusted": true
            },
            "outputs": [
                {
                    "data": {
                        "image/png": "[encoded data removed]",
                        "text/plain": [
                            "<Figure size 1000x500 with 2 Axes>"
                        ]
                    },
                    "metadata": {},
                    "output_type": "display_data"
                }
            ],
            "source": [
                "sns.set_style(\"darkgrid\")\n",
                "cat_cols = [\"likes_dogs_\", \"likes_cats_\"]\n",
                "titles = [\"Likes Dogs\", \"Likes Cats\"]\n",
                "fig6, ax6 = plt.subplots(ncols=2, figsize=(10, 5), sharey=True)\n",
                "for i, col in enumerate(cat_cols):\n",
                "    sns.countplot(data=df, x=col, ax=ax6[i], hue=\"sex\", width=0.5)\n",
                "    ax6[i].set(title=titles[i], xlabel=\"\", ylabel=\"\")"
            ]
        },
        {
            "cell_type": "markdown",
            "metadata": {
                "id": "rFSLx4QFYvJx"
            },
            "source": [
                "**Clustering Users. Unsupervised Learning**\n",
                "\n",
                "Now we have the features of interest as numerical values. And we can use a clustering algorithm in order to form groups of users with affinity. In this case we are going to apply KMeans, GMM, and DBscan clustering (from scikit-learn)"
            ]
        },
        {
            "cell_type": "code",
            "execution_count": 34,
            "metadata": {
                "execution": {
                    "iopub.execute_input": "2023-12-17T07:21:10.236575Z",
                    "iopub.status.busy": "2023-12-17T07:21:10.236205Z",
                    "iopub.status.idle": "2023-12-17T07:21:10.241937Z",
                    "shell.execute_reply": "2023-12-17T07:21:10.240668Z",
                    "shell.execute_reply.started": "2023-12-17T07:21:10.236546Z"
                },
                "id": "jiLeTpHNYvJx",
                "trusted": true
            },
            "outputs": [],
            "source": [
                "features = [\n",
                "    \"age\",\n",
                "    \"height\",\n",
                "    \"body_type_\",\n",
                "    \"education_\",\n",
                "    \"drinks_\",\n",
                "    \"drugs_\",\n",
                "    \"smokes_\",\n",
                "    \"likes_dogs_\",\n",
                "    \"likes_cats_\",\n",
                "]"
            ]
        },
        {
            "cell_type": "code",
            "execution_count": 35,
            "metadata": {
                "colab": {
                    "base_uri": "https://localhost:8080/",
                    "height": 206
                },
                "execution": {
                    "iopub.execute_input": "2023-12-17T07:21:11.265330Z",
                    "iopub.status.busy": "2023-12-17T07:21:11.264911Z",
                    "iopub.status.idle": "2023-12-17T07:21:11.335156Z",
                    "shell.execute_reply": "2023-12-17T07:21:11.333864Z",
                    "shell.execute_reply.started": "2023-12-17T07:21:11.265295Z"
                },
                "id": "KdumxG2OYvJx",
                "outputId": "0cc1d0cf-2fad-4e1a-9e9d-31e844a20b22",
                "trusted": true
            },
            "outputs": [
                {
                    "data": {
                        "text/html": [
                            "<div>\n",
                            "<style scoped>\n",
                            "    .dataframe tbody tr th:only-of-type {\n",
                            "        vertical-align: middle;\n",
                            "    }\n",
                            "\n",
                            "    .dataframe tbody tr th {\n",
                            "        vertical-align: top;\n",
                            "    }\n",
                            "\n",
                            "    .dataframe thead th {\n",
                            "        text-align: right;\n",
                            "    }\n",
                            "</style>\n",
                            "<table border=\"1\" class=\"dataframe\">\n",
                            "  <thead>\n",
                            "    <tr style=\"text-align: right;\">\n",
                            "      <th></th>\n",
                            "      <th>age</th>\n",
                            "      <th>height</th>\n",
                            "    </tr>\n",
                            "  </thead>\n",
                            "  <tbody>\n",
                            "    <tr>\n",
                            "      <th>0.0</th>\n",
                            "      <td>22.0</td>\n",
                            "      <td>190.0</td>\n",
                            "    </tr>\n",
                            "    <tr>\n",
                            "      <th>1.0</th>\n",
                            "      <td>35.0</td>\n",
                            "      <td>178.0</td>\n",
                            "    </tr>\n",
                            "    <tr>\n",
                            "      <th>2.0</th>\n",
                            "      <td>38.0</td>\n",
                            "      <td>173.0</td>\n",
                            "    </tr>\n",
                            "    <tr>\n",
                            "      <th>3.0</th>\n",
                            "      <td>23.0</td>\n",
                            "      <td>180.0</td>\n",
                            "    </tr>\n",
                            "    <tr>\n",
                            "      <th>4.0</th>\n",
                            "      <td>29.0</td>\n",
                            "      <td>168.0</td>\n",
                            "    </tr>\n",
                            "  </tbody>\n",
                            "</table>\n",
                            "</div>"
                        ],
                        "text/plain": [
                            "      age  height\n",
                            "0.0  22.0   190.0\n",
                            "1.0  35.0   178.0\n",
                            "2.0  38.0   173.0\n",
                            "3.0  23.0   180.0\n",
                            "4.0  29.0   168.0"
                        ]
                    },
                    "execution_count": 35,
                    "metadata": {},
                    "output_type": "execute_result"
                }
            ],
            "source": [
                "X = df[features[0:2]].copy()\n",
                "X.head()"
            ]
        },
        {
            "cell_type": "markdown",
            "metadata": {
                "id": "vrL8-g-IYvJx"
            },
            "source": [
                "Now we transform the categorical data into numerical data, using teh attribute cat.codes of the categorical features."
            ]
        },
        {
            "cell_type": "code",
            "execution_count": 36,
            "metadata": {
                "colab": {
                    "base_uri": "https://localhost:8080/",
                    "height": 366
                },
                "execution": {
                    "iopub.execute_input": "2023-12-17T07:21:13.975627Z",
                    "iopub.status.busy": "2023-12-17T07:21:13.975242Z",
                    "iopub.status.idle": "2023-12-17T07:21:13.993775Z",
                    "shell.execute_reply": "2023-12-17T07:21:13.992382Z",
                    "shell.execute_reply.started": "2023-12-17T07:21:13.975596Z"
                },
                "id": "Suw5gieSYvJy",
                "outputId": "98f738e9-ea37-4b4b-87ff-852f8fb21e43",
                "trusted": true
            },
            "outputs": [
                {
                    "data": {
                        "text/plain": [
                            "age            0\n",
                            "height         0\n",
                            "body_type_     0\n",
                            "education_     0\n",
                            "drinks_        0\n",
                            "drugs_         0\n",
                            "smokes_        0\n",
                            "likes_dogs_    0\n",
                            "likes_cats_    0\n",
                            "dtype: int64"
                        ]
                    },
                    "execution_count": 36,
                    "metadata": {},
                    "output_type": "execute_result"
                }
            ],
            "source": [
                "for feat in features[2:]:\n",
                "    X[feat] = df[feat].cat.codes\n",
                "\n",
                "X.isnull().sum()"
            ]
        },
        {
            "cell_type": "code",
            "execution_count": 37,
            "metadata": {
                "execution": {
                    "iopub.execute_input": "2023-12-17T07:21:14.566387Z",
                    "iopub.status.busy": "2023-12-17T07:21:14.565975Z",
                    "iopub.status.idle": "2023-12-17T07:21:14.586185Z",
                    "shell.execute_reply": "2023-12-17T07:21:14.584775Z",
                    "shell.execute_reply.started": "2023-12-17T07:21:14.566355Z"
                },
                "id": "vrwG8tXgYvJy",
                "trusted": true
            },
            "outputs": [],
            "source": [
                "from sklearn.cluster import KMeans\n",
                "from sklearn.preprocessing import StandardScaler\n",
                "\n",
                "scaler = StandardScaler()\n",
                "scaler.set_output(transform=\"pandas\")\n",
                "\n",
                "X_scaled = scaler.fit_transform(X)"
            ]
        },
        {
            "cell_type": "markdown",
            "metadata": {
                "id": "3E8paAJ4YvJy"
            },
            "source": [
                "**Inertia**\n",
                "\n",
                "As per sklearn documentation, inertia is the sum of squared distances of samples to their closest cluster centre."
            ]
        },
        {
            "cell_type": "code",
            "execution_count": 38,
            "metadata": {
                "execution": {
                    "iopub.execute_input": "2023-12-17T07:21:16.506579Z",
                    "iopub.status.busy": "2023-12-17T07:21:16.506169Z",
                    "iopub.status.idle": "2023-12-17T07:21:21.668309Z",
                    "shell.execute_reply": "2023-12-17T07:21:21.667236Z",
                    "shell.execute_reply.started": "2023-12-17T07:21:16.506533Z"
                },
                "id": "tJ0fRCDTYvJy",
                "trusted": true
            },
            "outputs": [],
            "source": [
                "num_clusters = list(np.arange(1, 21))\n",
                "\n",
                "inertias = []\n",
                "\n",
                "for k in num_clusters:\n",
                "    model = KMeans(n_clusters=k, n_init=\"auto\")\n",
                "    model.fit(X_scaled)\n",
                "    inertias.append(model.inertia_)"
            ]
        },
        {
            "cell_type": "markdown",
            "metadata": {
                "id": "dmSNlhh2YvJy"
            },
            "source": [
                "No we plot the inertias list in order to find the optimal number of clusters. we are using the elbow method: when inertia begins to decrease more slowly."
            ]
        },
        {
            "cell_type": "code",
            "execution_count": 39,
            "metadata": {
                "colab": {
                    "base_uri": "https://localhost:8080/",
                    "height": 874
                },
                "execution": {
                    "iopub.execute_input": "2023-12-17T07:24:15.836034Z",
                    "iopub.status.busy": "2023-12-17T07:24:15.835536Z",
                    "iopub.status.idle": "2023-12-17T07:24:16.426221Z",
                    "shell.execute_reply": "2023-12-17T07:24:16.425353Z",
                    "shell.execute_reply.started": "2023-12-17T07:24:15.836002Z"
                },
                "id": "9CSPjbwrYvJy",
                "outputId": "24c9aec7-63fb-4704-9ddb-98ef4694a4a5",
                "trusted": true
            },
            "outputs": [
                {
                    "data": {
                        "image/png": "[encoded data removed]",
                        "text/plain": [
                            "<Figure size 700x500 with 1 Axes>"
                        ]
                    },
                    "metadata": {},
                    "output_type": "display_data"
                }
            ],
            "source": [
                "fig7, ax7 = plt.subplots(figsize=(7, 5))\n",
                "\n",
                "ax7.plot(num_clusters, inertias, \"-o\")\n",
                "ax7.set(xticks=num_clusters, xlabel=\"clusters\", title=\"Inertia\");"
            ]
        },
        {
            "cell_type": "markdown",
            "metadata": {
                "id": "KbJxeyolYvJy"
            },
            "source": [
                "The choice of the numebr of clusters is always a trade-off to minimise inertia and to keep the numebr of clusters as low as possible. In this case, it makes sense to choose 12 as the number of clusters.\n",
                "\n",
                "The sklearn algorithm assigns to each point (user) a label, found with the attribute labels_, that we assign to a new columns 'membership' in our dataframe."
            ]
        },
        {
            "cell_type": "code",
            "execution_count": 40,
            "metadata": {
                "colab": {
                    "base_uri": "https://localhost:8080/",
                    "height": 491
                },
                "execution": {
                    "iopub.execute_input": "2023-12-17T07:42:09.107175Z",
                    "iopub.status.busy": "2023-12-17T07:42:09.106758Z",
                    "iopub.status.idle": "2023-12-17T07:42:09.323306Z",
                    "shell.execute_reply": "2023-12-17T07:42:09.321992Z",
                    "shell.execute_reply.started": "2023-12-17T07:42:09.107130Z"
                },
                "id": "IHkhz_kTYvJy",
                "outputId": "b846307c-66de-4d41-be53-2479bd8aa840",
                "trusted": true
            },
            "outputs": [
                {
                    "data": {
                        "text/plain": [
                            "membership\n",
                            "2     10672\n",
                            "1      8756\n",
                            "7      7341\n",
                            "5      5705\n",
                            "10     4284\n",
                            "3      4185\n",
                            "4      4064\n",
                            "0      3712\n",
                            "8      3650\n",
                            "6      3567\n",
                            "9      2496\n",
                            "11     1515\n",
                            "Name: count, dtype: int64"
                        ]
                    },
                    "execution_count": 40,
                    "metadata": {},
                    "output_type": "execute_result"
                }
            ],
            "source": [
                "k = 12\n",
                "model = KMeans(n_clusters=k, n_init=\"auto\")\n",
                "model.fit(X_scaled)\n",
                "df[\"membership\"] = model.labels_\n",
                "df.membership.value_counts()"
            ]
        },
        {
            "cell_type": "code",
            "execution_count": 41,
            "metadata": {
                "colab": {
                    "base_uri": "https://localhost:8080/",
                    "height": 509
                },
                "execution": {
                    "iopub.execute_input": "2023-12-17T07:44:27.638288Z",
                    "iopub.status.busy": "2023-12-17T07:44:27.637146Z",
                    "iopub.status.idle": "2023-12-17T07:44:28.240898Z",
                    "shell.execute_reply": "2023-12-17T07:44:28.239796Z",
                    "shell.execute_reply.started": "2023-12-17T07:44:27.638242Z"
                },
                "id": "Vv5hy_xoYvJy",
                "outputId": "abc00917-b944-40fc-ee6c-003b6f214a1d",
                "trusted": true
            },
            "outputs": [
                {
                    "data": {
                        "text/plain": [
                            "[Text(0.5, 1.0, 'Users per cluster'), Text(0, 0.5, '')]"
                        ]
                    },
                    "execution_count": 41,
                    "metadata": {},
                    "output_type": "execute_result"
                },
                {
                    "data": {
                        "image/png": "[encoded data removed]",
                        "text/plain": [
                            "<Figure size 700x500 with 1 Axes>"
                        ]
                    },
                    "metadata": {},
                    "output_type": "display_data"
                }
            ],
            "source": [
                "fig8, ax8 = plt.subplots(figsize=(7, 5))\n",
                "\n",
                "sns.countplot(data=df, x=\"membership\", ax=ax8, hue=\"sex\")\n",
                "ax8.set(title=\"Users per cluster\", ylabel=\"\")"
            ]
        },
        {
            "cell_type": "code",
            "execution_count": null,
            "metadata": {
                "colab": {
                    "base_uri": "https://localhost:8080/",
                    "height": 1000
                },
                "id": "WpB3DlDajBks",
                "outputId": "7e3b3775-9fe6-479a-b4ca-53eef207d116"
            },
            "outputs": [],
            "source": [
                "from sklearn.cluster import DBSCAN\n",
                "\n",
                "eps = 0.5\n",
                "min_samples = 5\n",
                "dbscan_model = DBSCAN(eps=eps, min_samples=min_samples)\n",
                "dbscan_model.fit(X_scaled)\n",
                "\n",
                "df[\"membership\"] = dbscan_model.labels_\n",
                "df.membership.value_counts()"
            ]
        },
        {
            "cell_type": "code",
            "execution_count": 43,
            "metadata": {
                "id": "92KhgmS6lTxS"
            },
            "outputs": [],
            "source": [
                "from sklearn.mixture import GaussianMixture\n",
                "\n",
                "num_clusters = list(np.arange(1, 21))\n",
                "bics = []\n",
                "\n",
                "for k in num_clusters:\n",
                "    gmm_model = GaussianMixture(n_components=k, random_state=42)\n",
                "    gmm_model.fit(X_scaled)\n",
                "    bics.append(gmm_model.bic(X_scaled))\n",
                "\n",
                "optimal_k = num_clusters[np.argmin(bics)]"
            ]
        },
        {
            "cell_type": "code",
            "execution_count": 44,
            "metadata": {
                "colab": {
                    "base_uri": "https://localhost:8080/"
                },
                "id": "3iU69UH0l_64",
                "outputId": "d74f3029-5d52-4e16-e962-f1cac587d901"
            },
            "outputs": [
                {
                    "data": {
                        "text/plain": [
                            "np.int64(20)"
                        ]
                    },
                    "execution_count": 44,
                    "metadata": {},
                    "output_type": "execute_result"
                }
            ],
            "source": [
                "optimal_k"
            ]
        },
        {
            "cell_type": "markdown",
            "metadata": {
                "id": "bb2w8SbWYvJy"
            },
            "source": [
                "**Lover recommendation: An example**\n",
                "\n",
                "Features of interest we are considering:"
            ]
        },
        {
            "cell_type": "code",
            "execution_count": 45,
            "metadata": {
                "execution": {
                    "iopub.execute_input": "2023-12-17T07:51:39.648291Z",
                    "iopub.status.busy": "2023-12-17T07:51:39.647116Z",
                    "iopub.status.idle": "2023-12-17T07:51:39.654102Z",
                    "shell.execute_reply": "2023-12-17T07:51:39.652574Z",
                    "shell.execute_reply.started": "2023-12-17T07:51:39.648237Z"
                },
                "id": "oTDKPnyHYvJy",
                "trusted": true
            },
            "outputs": [],
            "source": [
                "features = [\n",
                "    \"age\",\n",
                "    \"height\",\n",
                "    \"sex\",\n",
                "    \"orientation\",\n",
                "    \"body_type_\",\n",
                "    \"education_\",\n",
                "    \"drinks_\",\n",
                "    \"drugs_\",\n",
                "    \"smokes_\",\n",
                "    \"likes_dogs_\",\n",
                "    \"likes_cats_\",\n",
                "    \"membership\",\n",
                "]"
            ]
        },
        {
            "cell_type": "markdown",
            "metadata": {
                "id": "pRKxhNLxYvJy"
            },
            "source": [
                "Let's say that we want to recommend profiles that user_id 42 can be interested in. This user is a male, with sexual orientation 'straight'."
            ]
        },
        {
            "cell_type": "code",
            "execution_count": 46,
            "metadata": {
                "colab": {
                    "base_uri": "https://localhost:8080/",
                    "height": 80
                },
                "execution": {
                    "iopub.execute_input": "2023-12-17T07:54:17.269228Z",
                    "iopub.status.busy": "2023-12-17T07:54:17.268767Z",
                    "iopub.status.idle": "2023-12-17T07:54:17.293908Z",
                    "shell.execute_reply": "2023-12-17T07:54:17.292797Z",
                    "shell.execute_reply.started": "2023-12-17T07:54:17.269190Z"
                },
                "id": "HBCClouAYvJy",
                "outputId": "55678b0a-201b-4b40-aa1f-7903f876e8ce",
                "trusted": true
            },
            "outputs": [
                {
                    "data": {
                        "text/html": [
                            "<div>\n",
                            "<style scoped>\n",
                            "    .dataframe tbody tr th:only-of-type {\n",
                            "        vertical-align: middle;\n",
                            "    }\n",
                            "\n",
                            "    .dataframe tbody tr th {\n",
                            "        vertical-align: top;\n",
                            "    }\n",
                            "\n",
                            "    .dataframe thead th {\n",
                            "        text-align: right;\n",
                            "    }\n",
                            "</style>\n",
                            "<table border=\"1\" class=\"dataframe\">\n",
                            "  <thead>\n",
                            "    <tr style=\"text-align: right;\">\n",
                            "      <th></th>\n",
                            "      <th>age</th>\n",
                            "      <th>height</th>\n",
                            "      <th>sex</th>\n",
                            "      <th>orientation</th>\n",
                            "      <th>body_type_</th>\n",
                            "      <th>education_</th>\n",
                            "      <th>drinks_</th>\n",
                            "      <th>drugs_</th>\n",
                            "      <th>smokes_</th>\n",
                            "      <th>likes_dogs_</th>\n",
                            "      <th>likes_cats_</th>\n",
                            "      <th>membership</th>\n",
                            "    </tr>\n",
                            "  </thead>\n",
                            "  <tbody>\n",
                            "    <tr>\n",
                            "      <th>42.0</th>\n",
                            "      <td>30.0</td>\n",
                            "      <td>190.0</td>\n",
                            "      <td>m</td>\n",
                            "      <td>straight</td>\n",
                            "      <td>mesomorph</td>\n",
                            "      <td>College or more</td>\n",
                            "      <td>often</td>\n",
                            "      <td>sometimes</td>\n",
                            "      <td>no</td>\n",
                            "      <td>No</td>\n",
                            "      <td>No</td>\n",
                            "      <td>19</td>\n",
                            "    </tr>\n",
                            "  </tbody>\n",
                            "</table>\n",
                            "</div>"
                        ],
                        "text/plain": [
                            "       age  height sex orientation body_type_       education_ drinks_  \\\n",
                            "42.0  30.0   190.0   m    straight  mesomorph  College or more   often   \n",
                            "\n",
                            "         drugs_ smokes_ likes_dogs_ likes_cats_  membership  \n",
                            "42.0  sometimes      no          No          No          19  "
                        ]
                    },
                    "execution_count": 46,
                    "metadata": {},
                    "output_type": "execute_result"
                }
            ],
            "source": [
                "df.loc[42:42, features]"
            ]
        },
        {
            "cell_type": "code",
            "execution_count": 47,
            "metadata": {
                "colab": {
                    "base_uri": "https://localhost:8080/"
                },
                "execution": {
                    "iopub.execute_input": "2023-12-17T07:59:06.167568Z",
                    "iopub.status.busy": "2023-12-17T07:59:06.167140Z",
                    "iopub.status.idle": "2023-12-17T07:59:06.204146Z",
                    "shell.execute_reply": "2023-12-17T07:59:06.202763Z",
                    "shell.execute_reply.started": "2023-12-17T07:59:06.167536Z"
                },
                "id": "Ygtub0NqYvJz",
                "outputId": "aac10b7f-cc86-4e71-ce39-68e9c3a60af1",
                "trusted": true
            },
            "outputs": [
                {
                    "name": "stdout",
                    "output_type": "stream",
                    "text": [
                        "So we have found 35 female users in the same cluster.\n",
                        "\n"
                    ]
                }
            ],
            "source": [
                "users = df.loc[\n",
                "    (df.sex == \"f\")\n",
                "    & (df.membership == df.at[42, \"membership\"])\n",
                "    & (df.orientation == \"straight\")\n",
                "    ].index\n",
                "print(f\"So we have found {len(users)} female users in the same cluster.\\n\")"
            ]
        },
        {
            "cell_type": "markdown",
            "metadata": {
                "id": "8D-Cgu8sYvJz"
            },
            "source": [
                "**Distances**\n",
                "\n",
                "Now we can prepare an ordered list based on affinity. First of all we need to calculate the distance between user 42 and the rest of profiles we have just found."
            ]
        },
        {
            "cell_type": "code",
            "execution_count": 48,
            "metadata": {
                "execution": {
                    "iopub.execute_input": "2023-12-17T08:01:33.488140Z",
                    "iopub.status.busy": "2023-12-17T08:01:33.487725Z",
                    "iopub.status.idle": "2023-12-17T08:01:33.495392Z",
                    "shell.execute_reply": "2023-12-17T08:01:33.493910Z",
                    "shell.execute_reply.started": "2023-12-17T08:01:33.488109Z"
                },
                "id": "altPIzBIYvJz",
                "trusted": true
            },
            "outputs": [],
            "source": [
                "def distance(row, user):\n",
                "    result = 0\n",
                "    for i, v in enumerate(row):\n",
                "        result += (v - user[i]) ** 2\n",
                "    return result ** 0.5;"
            ]
        },
        {
            "cell_type": "code",
            "execution_count": 49,
            "metadata": {
                "colab": {
                    "base_uri": "https://localhost:8080/"
                },
                "execution": {
                    "iopub.execute_input": "2023-12-17T08:02:52.987889Z",
                    "iopub.status.busy": "2023-12-17T08:02:52.987005Z",
                    "iopub.status.idle": "2023-12-17T08:02:53.043663Z",
                    "shell.execute_reply": "2023-12-17T08:02:53.042434Z",
                    "shell.execute_reply.started": "2023-12-17T08:02:52.987848Z"
                },
                "id": "5vRlqsjCYvJz",
                "outputId": "03774e2b-f654-44fc-9eb9-fc682a13741e",
                "trusted": true
            },
            "outputs": [
                {
                    "name": "stderr",
                    "output_type": "stream",
                    "text": [
                        "C:\\Users\\nick\\AppData\\Local\\Temp\\ipykernel_20792\\1105939345.py:4: FutureWarning: Series.__getitem__ treating keys as positions is deprecated. In a future version, integer keys will always be treated as labels (consistent with DataFrame behavior). To access a value by position, use `ser.iloc[pos]`\n",
                        "  result += (v - user[i]) ** 2\n"
                    ]
                }
            ],
            "source": [
                "user = X_scaled.iloc[42]\n",
                "distances = X_scaled.loc[users].apply(distance, axis=1, args=(user,)).sort_values();"
            ]
        },
        {
            "cell_type": "code",
            "execution_count": 50,
            "metadata": {
                "colab": {
                    "base_uri": "https://localhost:8080/",
                    "height": 80
                },
                "execution": {
                    "iopub.execute_input": "2023-12-17T08:03:12.708318Z",
                    "iopub.status.busy": "2023-12-17T08:03:12.707849Z",
                    "iopub.status.idle": "2023-12-17T08:03:12.733835Z",
                    "shell.execute_reply": "2023-12-17T08:03:12.732751Z",
                    "shell.execute_reply.started": "2023-12-17T08:03:12.708283Z"
                },
                "id": "DgcdFZJeYvJz",
                "outputId": "f396b1af-baf3-458b-aa39-f2f29cb6dc4b",
                "trusted": true
            },
            "outputs": [
                {
                    "data": {
                        "text/html": [
                            "<div>\n",
                            "<style scoped>\n",
                            "    .dataframe tbody tr th:only-of-type {\n",
                            "        vertical-align: middle;\n",
                            "    }\n",
                            "\n",
                            "    .dataframe tbody tr th {\n",
                            "        vertical-align: top;\n",
                            "    }\n",
                            "\n",
                            "    .dataframe thead th {\n",
                            "        text-align: right;\n",
                            "    }\n",
                            "</style>\n",
                            "<table border=\"1\" class=\"dataframe\">\n",
                            "  <thead>\n",
                            "    <tr style=\"text-align: right;\">\n",
                            "      <th></th>\n",
                            "      <th>age</th>\n",
                            "      <th>height</th>\n",
                            "      <th>sex</th>\n",
                            "      <th>orientation</th>\n",
                            "      <th>body_type_</th>\n",
                            "      <th>education_</th>\n",
                            "      <th>drinks_</th>\n",
                            "      <th>drugs_</th>\n",
                            "      <th>smokes_</th>\n",
                            "      <th>likes_dogs_</th>\n",
                            "      <th>likes_cats_</th>\n",
                            "      <th>membership</th>\n",
                            "    </tr>\n",
                            "  </thead>\n",
                            "  <tbody>\n",
                            "    <tr>\n",
                            "      <th>42.0</th>\n",
                            "      <td>30.0</td>\n",
                            "      <td>190.0</td>\n",
                            "      <td>m</td>\n",
                            "      <td>straight</td>\n",
                            "      <td>mesomorph</td>\n",
                            "      <td>College or more</td>\n",
                            "      <td>often</td>\n",
                            "      <td>sometimes</td>\n",
                            "      <td>no</td>\n",
                            "      <td>No</td>\n",
                            "      <td>No</td>\n",
                            "      <td>19</td>\n",
                            "    </tr>\n",
                            "  </tbody>\n",
                            "</table>\n",
                            "</div>"
                        ],
                        "text/plain": [
                            "       age  height sex orientation body_type_       education_ drinks_  \\\n",
                            "42.0  30.0   190.0   m    straight  mesomorph  College or more   often   \n",
                            "\n",
                            "         drugs_ smokes_ likes_dogs_ likes_cats_  membership  \n",
                            "42.0  sometimes      no          No          No          19  "
                        ]
                    },
                    "execution_count": 50,
                    "metadata": {},
                    "output_type": "execute_result"
                }
            ],
            "source": [
                "df.loc[42:42, features]"
            ]
        },
        {
            "cell_type": "code",
            "execution_count": 51,
            "metadata": {
                "colab": {
                    "base_uri": "https://localhost:8080/",
                    "height": 362
                },
                "execution": {
                    "iopub.execute_input": "2023-12-17T08:03:37.738393Z",
                    "iopub.status.busy": "2023-12-17T08:03:37.737750Z",
                    "iopub.status.idle": "2023-12-17T08:03:37.766733Z",
                    "shell.execute_reply": "2023-12-17T08:03:37.765593Z",
                    "shell.execute_reply.started": "2023-12-17T08:03:37.738360Z"
                },
                "id": "hH0WJMUnYvJz",
                "outputId": "190e7618-3371-4f27-8548-a070a6e1fb75",
                "trusted": true
            },
            "outputs": [
                {
                    "data": {
                        "text/html": [
                            "<div>\n",
                            "<style scoped>\n",
                            "    .dataframe tbody tr th:only-of-type {\n",
                            "        vertical-align: middle;\n",
                            "    }\n",
                            "\n",
                            "    .dataframe tbody tr th {\n",
                            "        vertical-align: top;\n",
                            "    }\n",
                            "\n",
                            "    .dataframe thead th {\n",
                            "        text-align: right;\n",
                            "    }\n",
                            "</style>\n",
                            "<table border=\"1\" class=\"dataframe\">\n",
                            "  <thead>\n",
                            "    <tr style=\"text-align: right;\">\n",
                            "      <th></th>\n",
                            "      <th>age</th>\n",
                            "      <th>height</th>\n",
                            "      <th>sex</th>\n",
                            "      <th>orientation</th>\n",
                            "      <th>body_type_</th>\n",
                            "      <th>education_</th>\n",
                            "      <th>drinks_</th>\n",
                            "      <th>drugs_</th>\n",
                            "      <th>smokes_</th>\n",
                            "      <th>likes_dogs_</th>\n",
                            "      <th>likes_cats_</th>\n",
                            "      <th>membership</th>\n",
                            "    </tr>\n",
                            "  </thead>\n",
                            "  <tbody>\n",
                            "    <tr>\n",
                            "      <th>31343.0</th>\n",
                            "      <td>25.0</td>\n",
                            "      <td>183.0</td>\n",
                            "      <td>f</td>\n",
                            "      <td>straight</td>\n",
                            "      <td>mesomorph</td>\n",
                            "      <td>College or more</td>\n",
                            "      <td>often</td>\n",
                            "      <td>sometimes</td>\n",
                            "      <td>no</td>\n",
                            "      <td>No</td>\n",
                            "      <td>No</td>\n",
                            "      <td>19</td>\n",
                            "    </tr>\n",
                            "    <tr>\n",
                            "      <th>55767.0</th>\n",
                            "      <td>30.0</td>\n",
                            "      <td>175.0</td>\n",
                            "      <td>f</td>\n",
                            "      <td>straight</td>\n",
                            "      <td>mesomorph</td>\n",
                            "      <td>College or more</td>\n",
                            "      <td>often</td>\n",
                            "      <td>sometimes</td>\n",
                            "      <td>no</td>\n",
                            "      <td>No</td>\n",
                            "      <td>No</td>\n",
                            "      <td>19</td>\n",
                            "    </tr>\n",
                            "    <tr>\n",
                            "      <th>13776.0</th>\n",
                            "      <td>32.0</td>\n",
                            "      <td>175.0</td>\n",
                            "      <td>f</td>\n",
                            "      <td>straight</td>\n",
                            "      <td>mesomorph</td>\n",
                            "      <td>College or more</td>\n",
                            "      <td>often</td>\n",
                            "      <td>sometimes</td>\n",
                            "      <td>no</td>\n",
                            "      <td>No</td>\n",
                            "      <td>No</td>\n",
                            "      <td>19</td>\n",
                            "    </tr>\n",
                            "  </tbody>\n",
                            "</table>\n",
                            "</div>"
                        ],
                        "text/plain": [
                            "          age  height sex orientation body_type_       education_ drinks_  \\\n",
                            "31343.0  25.0   183.0   f    straight  mesomorph  College or more   often   \n",
                            "55767.0  30.0   175.0   f    straight  mesomorph  College or more   often   \n",
                            "13776.0  32.0   175.0   f    straight  mesomorph  College or more   often   \n",
                            "\n",
                            "            drugs_ smokes_ likes_dogs_ likes_cats_  membership  \n",
                            "31343.0  sometimes      no          No          No          19  \n",
                            "55767.0  sometimes      no          No          No          19  \n",
                            "13776.0  sometimes      no          No          No          19  "
                        ]
                    },
                    "execution_count": 51,
                    "metadata": {},
                    "output_type": "execute_result"
                }
            ],
            "source": [
                "df.loc[distances.index, features].head(3)"
            ]
        },
        {
            "cell_type": "markdown",
            "metadata": {
                "id": "L1X0mLLqYvJz"
            },
            "source": [
                "We can see that the features are pretty similar.\n",
                "\n",
                "**Affinity**"
            ]
        },
        {
            "cell_type": "code",
            "execution_count": 52,
            "metadata": {
                "execution": {
                    "iopub.execute_input": "2023-12-17T08:05:07.471088Z",
                    "iopub.status.busy": "2023-12-17T08:05:07.470647Z",
                    "iopub.status.idle": "2023-12-17T08:05:07.476291Z",
                    "shell.execute_reply": "2023-12-17T08:05:07.475124Z",
                    "shell.execute_reply.started": "2023-12-17T08:05:07.471055Z"
                },
                "id": "SB2TpKRcYvJz",
                "trusted": true
            },
            "outputs": [],
            "source": [
                "gamma = 1 / (len(features))"
            ]
        },
        {
            "cell_type": "markdown",
            "metadata": {
                "id": "oi94xnx_YvJz"
            },
            "source": [
                "And now we can print the top ten choices for the user 42 with a similarity score:"
            ]
        },
        {
            "cell_type": "code",
            "execution_count": 53,
            "metadata": {
                "colab": {
                    "base_uri": "https://localhost:8080/",
                    "height": 411
                },
                "execution": {
                    "iopub.execute_input": "2023-12-17T08:07:57.458099Z",
                    "iopub.status.busy": "2023-12-17T08:07:57.457615Z",
                    "iopub.status.idle": "2023-12-17T08:07:57.486775Z",
                    "shell.execute_reply": "2023-12-17T08:07:57.485699Z",
                    "shell.execute_reply.started": "2023-12-17T08:07:57.458065Z"
                },
                "id": "oRnPwU5kYvJz",
                "outputId": "7f6a43a7-35db-4aa0-f3b5-94a678907eae",
                "trusted": true
            },
            "outputs": [
                {
                    "name": "stdout",
                    "output_type": "stream",
                    "text": [
                        "Top 3 users by affinity with user_id = 42\n"
                    ]
                },
                {
                    "data": {
                        "text/html": [
                            "<div>\n",
                            "<style scoped>\n",
                            "    .dataframe tbody tr th:only-of-type {\n",
                            "        vertical-align: middle;\n",
                            "    }\n",
                            "\n",
                            "    .dataframe tbody tr th {\n",
                            "        vertical-align: top;\n",
                            "    }\n",
                            "\n",
                            "    .dataframe thead th {\n",
                            "        text-align: right;\n",
                            "    }\n",
                            "</style>\n",
                            "<table border=\"1\" class=\"dataframe\">\n",
                            "  <thead>\n",
                            "    <tr style=\"text-align: right;\">\n",
                            "      <th></th>\n",
                            "      <th>affinity</th>\n",
                            "    </tr>\n",
                            "    <tr>\n",
                            "      <th>user_id</th>\n",
                            "      <th></th>\n",
                            "    </tr>\n",
                            "  </thead>\n",
                            "  <tbody>\n",
                            "    <tr>\n",
                            "      <th>31343.0</th>\n",
                            "      <td>93.0</td>\n",
                            "    </tr>\n",
                            "    <tr>\n",
                            "      <th>55767.0</th>\n",
                            "      <td>88.4</td>\n",
                            "    </tr>\n",
                            "    <tr>\n",
                            "      <th>13776.0</th>\n",
                            "      <td>88.3</td>\n",
                            "    </tr>\n",
                            "  </tbody>\n",
                            "</table>\n",
                            "</div>"
                        ],
                        "text/plain": [
                            "         affinity\n",
                            "user_id          \n",
                            "31343.0      93.0\n",
                            "55767.0      88.4\n",
                            "13776.0      88.3"
                        ]
                    },
                    "execution_count": 53,
                    "metadata": {},
                    "output_type": "execute_result"
                }
            ],
            "source": [
                "S = pd.DataFrame(\n",
                "    distances.apply(lambda x: round(np.exp(-x * gamma) * 100, 1)).rename(\"affinity\")\n",
                ")\n",
                "S.rename_axis(\"user_id\", inplace=True)\n",
                "print(\"Top 3 users by affinity with user_id = 42\")\n",
                "S.head(3)"
            ]
        },
        {
            "cell_type": "code",
            "execution_count": null,
            "metadata": {},
            "outputs": [],
            "source": []
        }
    ],
    "metadata": {
        "colab": {
            "provenance": []
        },
        "kernelspec": {
            "display_name": ".venv",
            "language": "python",
            "name": "python3"
        },
        "language_info": {
            "codemirror_mode": {
                "name": "ipython",
                "version": 3
            },
            "file_extension": ".py",
            "mimetype": "text/x-python",
            "name": "python",
            "nbconvert_exporter": "python",
            "pygments_lexer": "ipython3",
            "version": "3.12.3"
        }
    },
    "nbformat": 4,
    "nbformat_minor": 0
}
