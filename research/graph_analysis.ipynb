{
    "cells": [
        {
            "cell_type": "code",
            "execution_count": 1,
            "metadata": {},
            "outputs": [],
            "source": [
                "import networkx as nx\n",
                "\n",
                "G = nx.read_weighted_edgelist('../final_solution/male_graph.edgelist')"
            ]
        },
        {
            "cell_type": "code",
            "execution_count": null,
            "metadata": {},
            "outputs": [],
            "source": [
                "import networkx as nx\n",
                "import matplotlib.pyplot as plt\n",
                "\n",
                "# Plot the graph using spring_layout\n",
                "plt.figure(figsize=(5, 5))  # Larger plot size to avoid clutter\n",
                "pos = nx.spring_layout(G, iterations=100)\n",
                "\n",
                "# Draw the graph with larger edges and higher transparency\n",
                "nx.draw(G, pos, node_size=20, width=1, with_labels=False, node_color='blue', edge_color='black', alpha=0.6)\n",
                "\n",
                "# Display the plot\n",
                "plt.show()"
            ]
        },
        {
            "cell_type": "code",
            "execution_count": 3,
            "metadata": {},
            "outputs": [],
            "source": [
                "import networkx as nx\n",
                "import matplotlib.pyplot as plt\n",
                "\n",
                "def graph_eda(G: nx.Graph):\n",
                "    \"\"\"\n",
                "    Perform Exploratory Data Analysis (EDA) on the given NetworkX graph.\n",
                "    This function computes and displays basic graph metrics and visualizes some\n",
                "    key properties of the graph.\n",
                "\n",
                "    Args:\n",
                "        G (nx.Graph): A NetworkX graph object.\n",
                "    \n",
                "    Returns:\n",
                "        dict: A dictionary containing key graph metrics.\n",
                "    \"\"\"\n",
                "\n",
                "    # Basic graph properties\n",
                "    num_nodes = G.number_of_nodes()\n",
                "    num_edges = G.number_of_edges()\n",
                "    avg_degree = sum(dict(G.degree()).values()) / num_nodes if num_nodes > 0 else 0\n",
                "    density = nx.density(G)\n",
                "    is_connected = nx.is_connected(G)\n",
                "    \n",
                "    # Compute centrality measures\n",
                "    degree_centrality = nx.degree_centrality(G)\n",
                "    closeness_centrality = nx.closeness_centrality(G)\n",
                "    betweenness_centrality = nx.betweenness_centrality(G)\n",
                "\n",
                "    # Collecting metrics in a dictionary\n",
                "    graph_metrics = {\n",
                "        'num_nodes': num_nodes,\n",
                "        'num_edges': num_edges,\n",
                "        'avg_degree': avg_degree,\n",
                "        'density': density,\n",
                "        'is_connected': is_connected,\n",
                "        'degree_centrality': degree_centrality,\n",
                "        'closeness_centrality': closeness_centrality,\n",
                "        'betweenness_centrality': betweenness_centrality,\n",
                "    }\n",
                "\n",
                "    return graph_metrics\n",
                "\n",
                "def plot_degree_distribution(G: nx.Graph):\n",
                "    \"\"\"\n",
                "    Plots the degree distribution of the graph as a line plot, where the degree is on the y-axis.\n",
                "    \n",
                "    Args:\n",
                "        G (nx.Graph): The NetworkX graph object.\n",
                "    \"\"\"\n",
                "    # Get the degrees of all nodes in the graph\n",
                "    degree_sequence = [d for n, d in G.degree()]\n",
                "    \n",
                "    # Count the frequency of each degree value\n",
                "    degree_count = {}\n",
                "    for degree in degree_sequence:\n",
                "        degree_count[degree] = degree_count.get(degree, 0) + 1\n",
                "    \n",
                "    # Sort degrees and frequencies\n",
                "    degrees = sorted(degree_count.keys())\n",
                "    counts = [degree_count[degree] for degree in degrees]\n",
                "\n",
                "    # Plotting the degree distribution as a line plot\n",
                "    plt.figure(figsize=(8, 5))\n",
                "    plt.plot(degrees, counts, marker='.', linestyle='-', color='white', alpha=1)\n",
                "\n",
                "    # Add red vertical line at x = 0\n",
                "    plt.axvline(x=0, color='red', linestyle='--', linewidth=1)\n",
                "    # Add red horizontal line at y = 0\n",
                "    plt.axhline(y=0, color='red', linestyle='--', linewidth=1)\n",
                "\n",
                "    plt.title(\"Degree Distribution\")\n",
                "    plt.xlabel(\"Degree\")\n",
                "    plt.ylabel(\"Nodes\")\n",
                "    plt.show()"
            ]
        },
        {
            "cell_type": "code",
            "execution_count": 4,
            "metadata": {},
            "outputs": [],
            "source": [
                "graph_metrics = graph_eda(G)"
            ]
        },
        {
            "cell_type": "code",
            "execution_count": null,
            "metadata": {},
            "outputs": [],
            "source": [
                "print(f\"Graph has {graph_metrics[\"num_nodes\"]} nodes and {graph_metrics[\"num_edges\"]} edges.\")\n",
                "print(f\"Average degree: {graph_metrics[\"avg_degree\"]:.2f}\")\n",
                "print(f\"Graph density: {graph_metrics[\"density\"]:.4f}\")\n",
                "print(f\"Is the graph connected? {'Yes' if graph_metrics[\"is_connected\"] else 'No'}\")"
            ]
        },
        {
            "cell_type": "code",
            "execution_count": null,
            "metadata": {},
            "outputs": [],
            "source": [
                "# Print centrality measures for top 5 nodes\n",
                "print(\"\\nTop 5 nodes by degree centrality:\")\n",
                "top_5_degree = sorted(graph_metrics[\"degree_centrality\"].items(), key=lambda x: x[1], reverse=True)[:5]\n",
                "for node, centrality in top_5_degree:\n",
                "    print(f\"Node {node}: Degree Centrality = {centrality:.4f}\")\n",
                "\n",
                "print(\"\\nTop 5 nodes by closeness centrality:\")\n",
                "top_5_closeness = sorted(graph_metrics[\"closeness_centrality\"].items(), key=lambda x: x[1], reverse=True)[:5]\n",
                "for node, centrality in top_5_closeness:\n",
                "    print(f\"Node {node}: Closeness Centrality = {centrality:.4f}\")\n",
                "\n",
                "print(\"\\nTop 5 nodes by betweenness centrality:\")\n",
                "top_5_betweenness = sorted(graph_metrics[\"betweenness_centrality\"].items(), key=lambda x: x[1], reverse=True)[:5]\n",
                "for node, centrality in top_5_betweenness:\n",
                "    print(f\"Node {node}: Betweenness Centrality = {centrality:.4f}\")"
            ]
        },
        {
            "cell_type": "code",
            "execution_count": null,
            "metadata": {},
            "outputs": [],
            "source": [
                "plot_degree_distribution(G)"
            ]
        },
        {
            "cell_type": "code",
            "execution_count": null,
            "metadata": {},
            "outputs": [],
            "source": []
        }
    ],
    "metadata": {
        "kernelspec": {
            "display_name": ".venv",
            "language": "python",
            "name": "python3"
        },
        "language_info": {
            "codemirror_mode": {
                "name": "ipython",
                "version": 3
            },
            "file_extension": ".py",
            "mimetype": "text/x-python",
            "name": "python",
            "nbconvert_exporter": "python",
            "pygments_lexer": "ipython3",
            "version": "3.12.3"
        }
    },
    "nbformat": 4,
    "nbformat_minor": 2
}
